{
 "cells": [
  {
   "cell_type": "markdown",
   "id": "04c67cd8",
   "metadata": {},
   "source": [
    "#### Azure Data Factory\n",
    "ADF is defined as a data integration service.\n",
    "\n",
    "The aim of ADF is to fetch data from one or more data sources and convert them into a format that \n",
    "we process.\n",
    "\n",
    "The data sources might contain noise that we need to filter out. ADF connectors enable us to pull the interesting data and remove the rest.\n",
    "\n",
    "ADF to ingest data and load the data from a variety of sources into Azure Data Lake Storage.\n",
    "\n",
    "It is the cloud-based ETL service that allows us to create data-driven pipelines for orchestrating data movement and transforming data at scale."
   ]
  },
  {
   "cell_type": "markdown",
   "id": "ab6bb07d",
   "metadata": {},
   "source": [
    "#### Compute Services\n",
    "Azure virtual machines - Scalable computing resources (IaaS).\n",
    "\n",
    "App Service - Platform for hosting web apps and APIs (PaaS).\n",
    "\n",
    "Azure Functions - Serverless compute that runs code on-demand.\n",
    "\n",
    "Azure Kubernetes Service(AKS) - Managed Kubernetes container orchestration.\n",
    "\n",
    "Azure Container Instances - Run containers without managing servers.\n",
    "\n",
    "Azure Batch\t- Job scheduling and large-scale parallel compute."
   ]
  },
  {
   "cell_type": "markdown",
   "id": "10f2fcec",
   "metadata": {},
   "source": [
    "#### Storage Services\n",
    "Azure Blob Storage - Object Storage for unstructured data.\n",
    "\n",
    "Azure Data Lake Storage - Optimized storage for big data analytics.\n",
    "\n",
    "File Storage - Managed file shares accessible via SMB protocols\n",
    "\n",
    "Queue Storage - Messaging store for reliable messaging between services.\n",
    "\n",
    "Disk Storage - High performance disks for VMs.\n"
   ]
  },
  {
   "cell_type": "markdown",
   "id": "01c08cc8",
   "metadata": {},
   "source": [
    "#### AI, Data & Analytics\n",
    "Azure Data Factory - Data Integration and Orchestration (ETL).\n",
    "\n",
    "Azure Synapse Analytics - Data warehouse + big data analytics platform.\n",
    "\n",
    "Azure Data Bricks - Apache Spark based analytics platform for big data & ML.\n",
    "\n",
    "Azure Machine Learning - ML platform for building, training, deploying models.\n",
    "\n",
    "Azure Cognitive Services - Prebuilt AI services for vision, speech, language, etc.\n",
    "\n",
    "Azure HDInsight\t- Managed Apache Hadoop/Spark/Hive ecosystem."
   ]
  },
  {
   "cell_type": "markdown",
   "id": "7a93acb3",
   "metadata": {},
   "source": [
    "#### Databases\n",
    "Azure SQL Database - Managed relational SQL database (PaaS).\n",
    "\n",
    "SQL Managed Instance - Hybrid between Azure SQL and full SQL Server.\n",
    "\n",
    "Cosmos DB - Globally distributed NoSQL database.\n",
    "\n",
    "Azure Database for MySQL/PostgreSQL\t- Fully managed open-source DB services.\n",
    "\n",
    "Table Storage - NoSQL key-value store for fast access.\n"
   ]
  },
  {
   "cell_type": "markdown",
   "id": "da603fa1",
   "metadata": {},
   "source": []
  }
 ],
 "metadata": {
  "language_info": {
   "name": "python"
  }
 },
 "nbformat": 4,
 "nbformat_minor": 5
}
