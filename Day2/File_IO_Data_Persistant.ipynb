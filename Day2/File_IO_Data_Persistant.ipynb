{
 "cells": [
  {
   "cell_type": "markdown",
   "id": "def72d94",
   "metadata": {},
   "source": [
    "##### Open text file"
   ]
  },
  {
   "cell_type": "code",
   "execution_count": 2,
   "id": "6c0ae933",
   "metadata": {},
   "outputs": [],
   "source": [
    "file = open('my_file.txt','a')"
   ]
  },
  {
   "cell_type": "markdown",
   "id": "4e3a1f6f",
   "metadata": {},
   "source": [
    "##### Writing in file"
   ]
  },
  {
   "cell_type": "code",
   "execution_count": 13,
   "id": "2abf04b4",
   "metadata": {},
   "outputs": [],
   "source": [
    "# write() - add a single line\n",
    "file = open('my_file.txt', 'w')\n",
    "name = ['Rohan', 'Preet', 'Vishal']\n",
    "for i in name:\n",
    "    file.write(i)\n",
    "    file.write('\\n')"
   ]
  },
  {
   "cell_type": "code",
   "execution_count": 14,
   "id": "10de00b2",
   "metadata": {},
   "outputs": [],
   "source": [
    "# writelines() - add multiple lines at a time\n",
    "ls = ['A\\n', 'B\\n', 'C\\n']\n",
    "file.writelines(ls)"
   ]
  },
  {
   "cell_type": "code",
   "execution_count": 15,
   "id": "e7dc68b2",
   "metadata": {},
   "outputs": [],
   "source": [
    "file.close()"
   ]
  },
  {
   "cell_type": "markdown",
   "id": "4bf1cff3",
   "metadata": {},
   "source": [
    "##### Read Lines"
   ]
  },
  {
   "cell_type": "code",
   "execution_count": 17,
   "id": "cca42cf4",
   "metadata": {},
   "outputs": [
    {
     "data": {
      "text/plain": [
       "'Rohan\\nPreet\\nVishal\\nA\\nB\\nC\\n'"
      ]
     },
     "execution_count": 17,
     "metadata": {},
     "output_type": "execute_result"
    }
   ],
   "source": [
    "# using read()\n",
    "file.seek(0)\n",
    "file = open('my_file.txt', 'r+')\n",
    "file.read()"
   ]
  },
  {
   "cell_type": "code",
   "execution_count": null,
   "id": "e13c94fd",
   "metadata": {},
   "outputs": [
    {
     "data": {
      "text/plain": [
       "'Rohan\\n'"
      ]
     },
     "execution_count": 22,
     "metadata": {},
     "output_type": "execute_result"
    }
   ],
   "source": [
    "# readline() - reads only in a single line\n",
    "file.seek(0)\n",
    "file.readline(10)"
   ]
  },
  {
   "cell_type": "code",
   "execution_count": 23,
   "id": "d94c986f",
   "metadata": {},
   "outputs": [
    {
     "data": {
      "text/plain": [
       "'Pr'"
      ]
     },
     "execution_count": 23,
     "metadata": {},
     "output_type": "execute_result"
    }
   ],
   "source": [
    "file.readline(2)"
   ]
  },
  {
   "cell_type": "code",
   "execution_count": 25,
   "id": "8e848a90",
   "metadata": {},
   "outputs": [
    {
     "data": {
      "text/plain": [
       "['Rohan\\n', 'Preet\\n', 'Vishal\\n', 'A\\n', 'B\\n', 'C\\n']"
      ]
     },
     "execution_count": 25,
     "metadata": {},
     "output_type": "execute_result"
    }
   ],
   "source": [
    "# readlines() - read all lines\n",
    "file.seek(0)\n",
    "file.readlines()"
   ]
  },
  {
   "cell_type": "markdown",
   "id": "3156b128",
   "metadata": {},
   "source": [
    "##### File modes"
   ]
  },
  {
   "cell_type": "code",
   "execution_count": null,
   "id": "148708ef",
   "metadata": {},
   "outputs": [],
   "source": [
    "# r - open file for reading, raise I\\O error if file not exist\n",
    "# r+ - open file for reading and writing, raise I\\O error if file not exist\n",
    "# w - open file for writing, create new if not exist\n",
    "# w+ - open file for reading and writng, create new if not exist\n",
    "# a - open file for writing, data inserted at the end of file, create new if not exist\n",
    "# a+ - open file for reading and writing, data inserted at the end of file, create new if not exist\n",
    "# for binary files all writed with 'b' rb,rb+. wb etc."
   ]
  }
 ],
 "metadata": {
  "kernelspec": {
   "display_name": "Python 3",
   "language": "python",
   "name": "python3"
  },
  "language_info": {
   "codemirror_mode": {
    "name": "ipython",
    "version": 3
   },
   "file_extension": ".py",
   "mimetype": "text/x-python",
   "name": "python",
   "nbconvert_exporter": "python",
   "pygments_lexer": "ipython3",
   "version": "3.8.10"
  }
 },
 "nbformat": 4,
 "nbformat_minor": 5
}
