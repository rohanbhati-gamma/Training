{
 "cells": [
  {
   "cell_type": "markdown",
   "id": "4659a087",
   "metadata": {},
   "source": [
    "###### Convert Python Dict to JSON"
   ]
  },
  {
   "cell_type": "code",
   "execution_count": 12,
   "id": "ea3c478c",
   "metadata": {},
   "outputs": [
    {
     "name": "stdout",
     "output_type": "stream",
     "text": [
      "{\n",
      "    \"id\": \"04\",\n",
      "    \"name\": \"sunil\",\n",
      "    \"department\": \"HR\"\n",
      "}\n"
     ]
    },
    {
     "data": {
      "text/plain": [
       "str"
      ]
     },
     "execution_count": 12,
     "metadata": {},
     "output_type": "execute_result"
    }
   ],
   "source": [
    "import json\n",
    "\n",
    "my_dict = {\n",
    "    \"id\": \"04\",\n",
    "  \"name\": \"sunil\",\n",
    "  \"department\": \"HR\"\n",
    "}\n",
    "\n",
    "json_data = json.dumps(my_dict, indent=4)\n",
    "print(json_data)\n",
    "type(json_data)"
   ]
  },
  {
   "cell_type": "markdown",
   "id": "4c652038",
   "metadata": {},
   "source": [
    "##### Json file from python"
   ]
  },
  {
   "cell_type": "code",
   "execution_count": 8,
   "id": "c39fb5e4",
   "metadata": {},
   "outputs": [],
   "source": [
    "import json\n",
    "\n",
    "dog_data = {\n",
    "  \"name\": \"Frieda\",\n",
    "  \"is_dog\": True,\n",
    "  \"hobbies\": [\"eating\", \"sleeping\", \"barking\",],\n",
    "  \"age\": 8,\n",
    "  \"address\": {\n",
    "    \"work\": None,\n",
    "    \"home\": (\"Berlin\", \"Germany\",),\n",
    "  },\n",
    "  \"friends\": [\n",
    "    {\n",
    "      \"name\": \"Philipp\",\n",
    "      \"hobbies\": [\"eating\", \"sleeping\", \"reading\",],\n",
    "    },\n",
    "    {\n",
    "      \"name\": \"Mitch\",\n",
    "      \"hobbies\": [\"running\", \"snacking\",],\n",
    "    },\n",
    "  ],\n",
    "}\n",
    "\n",
    "with open(\"dog_data.json\", mode=\"w\") as write_file:\n",
    "    json.dump(dog_data, write_file)"
   ]
  },
  {
   "cell_type": "markdown",
   "id": "56edb3f8",
   "metadata": {},
   "source": [
    "##### json to python"
   ]
  },
  {
   "cell_type": "code",
   "execution_count": 16,
   "id": "704b1251",
   "metadata": {},
   "outputs": [
    {
     "name": "stdout",
     "output_type": "stream",
     "text": [
      "{'id': '09', 'name': 'Nitin', 'department': 'Finance'}\n",
      "<class 'dict'>\n",
      "{\n",
      "    \"department\": \"Finance\",\n",
      "    \"id\": \"09\",\n",
      "    \"name\": \"Nitin\"\n",
      "}\n"
     ]
    }
   ],
   "source": [
    "import json\n",
    "emp = '{\"id\":\"09\", \"name\": \"Nitin\", \"department\":\"Finance\"}'\n",
    "emp_dict = json.loads(emp)\n",
    "print(emp_dict)\n",
    "print(type(emp_dict))\n",
    "print(json.dumps(emp_dict, indent=4, sort_keys=True))"
   ]
  },
  {
   "cell_type": "markdown",
   "id": "e80bcb78",
   "metadata": {},
   "source": [
    "##### Context Manager"
   ]
  },
  {
   "cell_type": "code",
   "execution_count": 22,
   "id": "b3928791",
   "metadata": {},
   "outputs": [],
   "source": [
    "# the with statement in python lets you run a block of code within a run time context defined by a context manager object\n",
    "with open('my_file.txt','a') as file:\n",
    "    file.write('A')"
   ]
  },
  {
   "cell_type": "code",
   "execution_count": null,
   "id": "c090c60e",
   "metadata": {},
   "outputs": [],
   "source": []
  },
  {
   "cell_type": "code",
   "execution_count": null,
   "id": "53c7b111",
   "metadata": {},
   "outputs": [],
   "source": []
  }
 ],
 "metadata": {
  "kernelspec": {
   "display_name": "Python 3",
   "language": "python",
   "name": "python3"
  },
  "language_info": {
   "codemirror_mode": {
    "name": "ipython",
    "version": 3
   },
   "file_extension": ".py",
   "mimetype": "text/x-python",
   "name": "python",
   "nbconvert_exporter": "python",
   "pygments_lexer": "ipython3",
   "version": "3.8.10"
  }
 },
 "nbformat": 4,
 "nbformat_minor": 5
}
