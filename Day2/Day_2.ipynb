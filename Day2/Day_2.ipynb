{
 "cells": [
  {
   "cell_type": "markdown",
   "id": "dc07c0dd",
   "metadata": {},
   "source": [
    "### Classes and Objects"
   ]
  },
  {
   "cell_type": "code",
   "execution_count": 1,
   "id": "8ffba9df",
   "metadata": {},
   "outputs": [
    {
     "data": {
      "text/plain": [
       "'bark'"
      ]
     },
     "execution_count": 1,
     "metadata": {},
     "output_type": "execute_result"
    }
   ],
   "source": [
    "class Dog:\n",
    "    sound = 'bark'\n",
    "\n",
    "dog = Dog()\n",
    "dog.sound"
   ]
  },
  {
   "cell_type": "markdown",
   "id": "fe807fdc",
   "metadata": {},
   "source": [
    "##### Using __init__() Function"
   ]
  },
  {
   "cell_type": "code",
   "execution_count": 5,
   "id": "1eebae07",
   "metadata": {},
   "outputs": [
    {
     "name": "stdout",
     "output_type": "stream",
     "text": [
      "Rohan\n",
      "21\n"
     ]
    }
   ],
   "source": [
    "class Person:\n",
    "\n",
    "    def __init__(self, name, age):\n",
    "        self.name = name\n",
    "        self.age = age\n",
    "    \n",
    "obj = Person('Rohan',21)\n",
    "print(obj.name)\n",
    "print(obj.age)"
   ]
  },
  {
   "cell_type": "code",
   "execution_count": 6,
   "id": "36c53c44",
   "metadata": {},
   "outputs": [],
   "source": [
    "# self - it is a parameter reference to the current instance of the class. It allows us to access the attributes and methods of the object."
   ]
  },
  {
   "cell_type": "code",
   "execution_count": 8,
   "id": "1f2cc3bc",
   "metadata": {},
   "outputs": [
    {
     "name": "stdout",
     "output_type": "stream",
     "text": [
      "Canine\n",
      "Buddy\n",
      "Charlie\n",
      "Max\n",
      "Charlie\n",
      "Feline\n",
      "Feline\n"
     ]
    }
   ],
   "source": [
    "class Dog:\n",
    "    # Class variable\n",
    "    species = \"Canine\"\n",
    "\n",
    "    def __init__(self, name, age):\n",
    "        # Instance variables\n",
    "        self.name = name\n",
    "        self.age = age\n",
    "\n",
    "# Create objects\n",
    "dog1 = Dog(\"Buddy\", 3)\n",
    "dog2 = Dog(\"Charlie\", 5)\n",
    "\n",
    "# Access class and instance variables\n",
    "print(dog1.species)  # (Class variable)\n",
    "print(dog1.name)     # (Instance variable)\n",
    "print(dog2.name)     # (Instance variable)\n",
    "\n",
    "# Modify instance variables\n",
    "dog1.name = \"Max\"\n",
    "print(dog1.name)     # (Updated instance variable)\n",
    "print(dog2.name)\n",
    "\n",
    "# Modify class variable\n",
    "Dog.species = \"Feline\"\n",
    "print(dog1.species)  # (Updated class variable)\n",
    "print(dog2.species)"
   ]
  },
  {
   "cell_type": "markdown",
   "id": "61c27547",
   "metadata": {},
   "source": [
    "### Attributes and Methods"
   ]
  },
  {
   "cell_type": "code",
   "execution_count": 9,
   "id": "88f3c232",
   "metadata": {},
   "outputs": [],
   "source": [
    "class Dog:\n",
    "    # Attributes \n",
    "    species = \"Canine\"\n",
    "\n",
    "    # Methods\n",
    "    def show(self, name, age):\n",
    "        self.name = name\n",
    "        self.age = age\n",
    "        print(self.name)\n",
    "        print(self.age)"
   ]
  },
  {
   "cell_type": "markdown",
   "id": "3e55fa59",
   "metadata": {},
   "source": [
    "### Constructor and Destructor"
   ]
  },
  {
   "cell_type": "code",
   "execution_count": 20,
   "id": "88c2e17d",
   "metadata": {},
   "outputs": [
    {
     "name": "stdout",
     "output_type": "stream",
     "text": [
      "name : Buddy breed : GOlden Retriever\n",
      "Buddy is destroyed\n"
     ]
    }
   ],
   "source": [
    "class Dog:\n",
    "    def __init__(self, name, breed):\n",
    "        self.name = name\n",
    "        self.breed = breed\n",
    "        print(f'name : {self.name} breed : {self.breed}')\n",
    "\n",
    "    def __del__(self):\n",
    "        print(f'{self.name} is destroyed')\n",
    "\n",
    "O = Dog('Buddy', 'GOlden Retriever')\n",
    "\n",
    "del O"
   ]
  },
  {
   "cell_type": "markdown",
   "id": "5889cab1",
   "metadata": {},
   "source": [
    "### Encapsulation"
   ]
  },
  {
   "cell_type": "code",
   "execution_count": null,
   "id": "d888ae2c",
   "metadata": {},
   "outputs": [],
   "source": [
    "# it is the process of hiding the internal states of an object and requiring all interactions to be performed through an object's method."
   ]
  },
  {
   "cell_type": "code",
   "execution_count": 23,
   "id": "e8e369c0",
   "metadata": {},
   "outputs": [
    {
     "name": "stdout",
     "output_type": "stream",
     "text": [
      "Public Data Member : A\n",
      "Protected Data Member : B\n",
      "Private Data Member : C\n",
      "\n",
      "Protected Data Member : B\n",
      "Private Data Member : C\n",
      "\n",
      "A\n",
      "B\n",
      "C\n"
     ]
    }
   ],
   "source": [
    "# public, private, protected\n",
    "class Super:\n",
    "    var1 = None\n",
    "    _var2 = None\n",
    "    __var3 = None\n",
    "\n",
    "    def __init__(self,var1, var2, var3):\n",
    "        self.var1 = var1\n",
    "        self._var2 = var2\n",
    "        self.__var3 = var3\n",
    "\n",
    "    def PublicMember(self):\n",
    "        print('Public Data Member :', self.var1)\n",
    "\n",
    "    def _ProtectedMember(self):\n",
    "        print('Protected Data Member :', self._var2)\n",
    "\n",
    "    def __PrivateMember(self):\n",
    "        print('Private Data Member :', self.__var3)\n",
    "\n",
    "    def accessPrivateMember(self):\n",
    "        self.__PrivateMember()\n",
    "\n",
    "class Sub(Super):\n",
    "    def __init__(self, var1, var2, var3):\n",
    "        Super.__init__(self, var1, var2, var3)\n",
    "\n",
    "    def accessProtectedMember(self):\n",
    "        self._ProtectedMember()\n",
    "\n",
    "obj = Sub('A', 'B', 'C')\n",
    "\n",
    "obj.PublicMember()\n",
    "obj.accessProtectedMember()\n",
    "obj.accessPrivateMember()\n",
    "print()\n",
    "\n",
    "obj._ProtectedMember()\n",
    "obj._Super__PrivateMember()\n",
    "print()\n",
    "\n",
    "print(obj.var1)\n",
    "print(obj._var2)\n",
    "print(obj._Super__var3)"
   ]
  },
  {
   "cell_type": "markdown",
   "id": "cbcaf6eb",
   "metadata": {},
   "source": [
    "### Property Decorators"
   ]
  },
  {
   "cell_type": "code",
   "execution_count": 25,
   "id": "ff28e433",
   "metadata": {},
   "outputs": [],
   "source": [
    "class ppt:\n",
    "    def __init__(self):\n",
    "        self._name = str()\n",
    "\n",
    "    @property\n",
    "    def name(self):\n",
    "        print('Getter Method')\n",
    "        return self._name\n",
    "    \n",
    "    @name.setter\n",
    "    def name(self, val):\n",
    "        print('Setter Method')\n",
    "        self._name = val\n",
    "\n",
    "    @name.deleter\n",
    "    def name(self):\n",
    "        print('Deleter Method')\n",
    "        del self._name\n",
    "\n",
    "p = ppt()"
   ]
  },
  {
   "cell_type": "code",
   "execution_count": 26,
   "id": "484e70bd",
   "metadata": {},
   "outputs": [
    {
     "name": "stdout",
     "output_type": "stream",
     "text": [
      "Setter Method\n"
     ]
    }
   ],
   "source": [
    "p.name = 'Gammaedge'"
   ]
  },
  {
   "cell_type": "code",
   "execution_count": 27,
   "id": "f3135c5b",
   "metadata": {},
   "outputs": [
    {
     "name": "stdout",
     "output_type": "stream",
     "text": [
      "Getter Method\n",
      "Gammaedge\n"
     ]
    }
   ],
   "source": [
    "print(p.name)"
   ]
  },
  {
   "cell_type": "code",
   "execution_count": 14,
   "id": "bc7933ae",
   "metadata": {},
   "outputs": [
    {
     "name": "stdout",
     "output_type": "stream",
     "text": [
      "Deleter Method\n"
     ]
    }
   ],
   "source": [
    "del p.name"
   ]
  },
  {
   "cell_type": "code",
   "execution_count": 15,
   "id": "ddb2331c",
   "metadata": {},
   "outputs": [
    {
     "name": "stdout",
     "output_type": "stream",
     "text": [
      "Getter Method\n"
     ]
    },
    {
     "ename": "AttributeError",
     "evalue": "'Portal' object has no attribute '_name'",
     "output_type": "error",
     "traceback": [
      "\u001b[0;31m---------------------------------------------------------------------------\u001b[0m",
      "\u001b[0;31mAttributeError\u001b[0m                            Traceback (most recent call last)",
      "Cell \u001b[0;32mIn[15], line 1\u001b[0m\n\u001b[0;32m----> 1\u001b[0m \u001b[38;5;28mprint\u001b[39m(\u001b[43mp\u001b[49m\u001b[38;5;241;43m.\u001b[39;49m\u001b[43mname\u001b[49m)\n",
      "Cell \u001b[0;32mIn[10], line 8\u001b[0m, in \u001b[0;36mPortal.name\u001b[0;34m(self)\u001b[0m\n\u001b[1;32m      5\u001b[0m \u001b[38;5;129m@property\u001b[39m\n\u001b[1;32m      6\u001b[0m \u001b[38;5;28;01mdef\u001b[39;00m\u001b[38;5;250m \u001b[39m\u001b[38;5;21mname\u001b[39m(\u001b[38;5;28mself\u001b[39m):\n\u001b[1;32m      7\u001b[0m     \u001b[38;5;28mprint\u001b[39m(\u001b[38;5;124m'\u001b[39m\u001b[38;5;124mGetter Method\u001b[39m\u001b[38;5;124m'\u001b[39m)\n\u001b[0;32m----> 8\u001b[0m     \u001b[38;5;28;01mreturn\u001b[39;00m \u001b[38;5;28;43mself\u001b[39;49m\u001b[38;5;241;43m.\u001b[39;49m\u001b[43m_name\u001b[49m\n",
      "\u001b[0;31mAttributeError\u001b[0m: 'Portal' object has no attribute '_name'"
     ]
    }
   ],
   "source": [
    "print(p.name)"
   ]
  },
  {
   "cell_type": "markdown",
   "id": "25c8732e",
   "metadata": {},
   "source": [
    "### Inheritance"
   ]
  },
  {
   "cell_type": "code",
   "execution_count": 3,
   "id": "76826f5a",
   "metadata": {},
   "outputs": [
    {
     "name": "stdout",
     "output_type": "stream",
     "text": [
      "None\n",
      "gfg\n",
      "1\n",
      "gfg\n"
     ]
    }
   ],
   "source": [
    "from abc import ABC, abstractmethod\n",
    "\n",
    "class A:\n",
    "    def demo(self):\n",
    "        pass\n",
    "class B(A):\n",
    "    def demo(self):\n",
    "        return 'gfg'\n",
    "\n",
    "a = A()\n",
    "b = B()\n",
    "\n",
    "print(a.demo())\n",
    "print(b.demo())\n",
    "\n",
    "class C(ABC):\n",
    "    @abstractmethod\n",
    "    def show(self):\n",
    "        pass\n",
    "    def get(self):\n",
    "        return 1\n",
    "\n",
    "class D(C):\n",
    "    def show(self):\n",
    "        return 'gfg'\n",
    "    \n",
    "# c = C()\n",
    "d = D()\n",
    "# print(c.get())\n",
    "# print(c.show())\n",
    "\n",
    "print(d.get())\n",
    "print(d.show())"
   ]
  },
  {
   "cell_type": "code",
   "execution_count": null,
   "id": "24e44c94",
   "metadata": {},
   "outputs": [
    {
     "name": "stdout",
     "output_type": "stream",
     "text": [
      "1\n",
      "foo\n"
     ]
    },
    {
     "ename": "AttributeError",
     "evalue": "'MyClass' object has no attribute 'method3'",
     "output_type": "error",
     "traceback": [
      "\u001b[0;31m---------------------------------------------------------------------------\u001b[0m",
      "\u001b[0;31mAttributeError\u001b[0m                            Traceback (most recent call last)",
      "Cell \u001b[0;32mIn[21], line 24\u001b[0m\n\u001b[1;32m     22\u001b[0m \u001b[38;5;28mprint\u001b[39m(m\u001b[38;5;241m.\u001b[39mmethod1(\u001b[38;5;241m1\u001b[39m))\n\u001b[1;32m     23\u001b[0m \u001b[38;5;28mprint\u001b[39m(m\u001b[38;5;241m.\u001b[39mmethod2())\n\u001b[0;32m---> 24\u001b[0m \u001b[38;5;28mprint\u001b[39m(\u001b[43mm\u001b[49m\u001b[38;5;241;43m.\u001b[39;49m\u001b[43mmethod3\u001b[49m())\n",
      "\u001b[0;31mAttributeError\u001b[0m: 'MyClass' object has no attribute 'method3'"
     ]
    }
   ],
   "source": [
    "import zope.interface\n",
    "\n",
    "\n",
    "class MyInterface(zope.interface.Interface):\n",
    "    x = zope.interface.Attribute(\"foo\")\n",
    "    def method1(self, x):\n",
    "        pass\n",
    "    def method2(self):\n",
    "        pass\n",
    "    def method3(self):\n",
    "        return 'Nothing'\n",
    "\n",
    "\n",
    "@zope.interface.implementer(MyInterface)\n",
    "class MyClass:\n",
    "    def method1(self, x):\n",
    "        return x**2\n",
    "    def method2(self):\n",
    "        return \"foo\"\n",
    "    \n",
    "m = MyClass()\n",
    "print(m.method1(1))\n",
    "print(m.method2())\n",
    "print(m.method3())"
   ]
  },
  {
   "cell_type": "code",
   "execution_count": 14,
   "id": "3ef3d5a7",
   "metadata": {},
   "outputs": [
    {
     "name": "stdout",
     "output_type": "stream",
     "text": [
      "1\n",
      "gfg\n"
     ]
    }
   ],
   "source": [
    "class C(ABC):\n",
    "    @abstractmethod\n",
    "    def show(self):\n",
    "        print('hello')\n",
    "        return 5\n",
    "    def get(self):\n",
    "        return 1\n",
    "\n",
    "class D(C):\n",
    "    def show(self):\n",
    "        return 'gfg'\n",
    "    \n",
    "# c = C()\n",
    "d = D()\n",
    "# print(c.get())\n",
    "# print(c.show())\n",
    "\n",
    "print(d.get())\n",
    "print(d.show())"
   ]
  },
  {
   "cell_type": "code",
   "execution_count": null,
   "id": "9740a284",
   "metadata": {},
   "outputs": [],
   "source": []
  }
 ],
 "metadata": {
  "kernelspec": {
   "display_name": "Python 3",
   "language": "python",
   "name": "python3"
  },
  "language_info": {
   "codemirror_mode": {
    "name": "ipython",
    "version": 3
   },
   "file_extension": ".py",
   "mimetype": "text/x-python",
   "name": "python",
   "nbconvert_exporter": "python",
   "pygments_lexer": "ipython3",
   "version": "3.8.10"
  }
 },
 "nbformat": 4,
 "nbformat_minor": 5
}
