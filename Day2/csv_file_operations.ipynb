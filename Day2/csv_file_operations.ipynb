{
 "cells": [
  {
   "cell_type": "markdown",
   "id": "2ae71a42",
   "metadata": {},
   "source": [
    "##### Wrting to a CSV File"
   ]
  },
  {
   "cell_type": "code",
   "execution_count": 10,
   "id": "502d9593",
   "metadata": {},
   "outputs": [],
   "source": [
    "import csv\n",
    "\n",
    "fields = ['Name', 'Branch', 'Year', 'CGPA']\n",
    "rows = [['Nikhil', 'COE', '2', '9.0'],\n",
    "        ['Sanchit', 'COE', '2', '9.1'],\n",
    "        ['Aditya', 'IT', '2', '9.3'],\n",
    "        ['Sagar', 'SE', '1', '9.5'],\n",
    "        ['Prateek', 'MCE', '3', '7.8'],\n",
    "        ['Sahil', 'EP', '2', '9.1']]\n",
    "\n",
    "with open('csv-operation.csv', 'w') as csvfile:\n",
    "    # creating a csv writer object\n",
    "    csvwriter = csv.writer(csvfile)\n",
    "    # writing the fields\n",
    "    csvwriter.writerow(fields)\n",
    "    # writing the data rows\n",
    "    csvwriter.writerows(rows)"
   ]
  },
  {
   "cell_type": "markdown",
   "id": "0f384bd0",
   "metadata": {},
   "source": [
    "##### Read CSV File"
   ]
  },
  {
   "cell_type": "code",
   "execution_count": 14,
   "id": "9164c12a",
   "metadata": {},
   "outputs": [
    {
     "name": "stdout",
     "output_type": "stream",
     "text": [
      "Total no. of rows: 7\n",
      "['Name', 'Branch', 'Year', 'CGPA']\t\n",
      "Nikhil\tCOE\t2\t9.0\t\n",
      "Sanchit\tCOE\t2\t9.1\t\n",
      "Aditya\tIT\t2\t9.3\t\n",
      "Sagar\tSE\t1\t9.5\t\n",
      "Prateek\tMCE\t3\t7.8\t\n",
      "Sahil\tEP\t2\t9.1\t\n"
     ]
    }
   ],
   "source": [
    "import csv\n",
    "\n",
    "filename = 'csv-operation.csv'\n",
    "\n",
    "fields = []\n",
    "rows = []\n",
    "with open(filename,'r') as csvfile:\n",
    "    csvreader = csv.reader(csvfile)\n",
    "    field = next(csvreader)\n",
    "    fields.append(field)\n",
    "\n",
    "    for i in csvreader:\n",
    "        rows.append(i)\n",
    "\n",
    "    print('Total no. of rows:', csvreader.line_num)\n",
    "\n",
    "for field in fields:\n",
    "    print(field, end='\\t')\n",
    "print()\n",
    "\n",
    "for i in rows:\n",
    "    for j in i:\n",
    "        print(j, end='\\t')\n",
    "    print()"
   ]
  },
  {
   "cell_type": "markdown",
   "id": "397d55a9",
   "metadata": {},
   "source": [
    "##### write dictionary to a CSV"
   ]
  },
  {
   "cell_type": "code",
   "execution_count": 15,
   "id": "e3684162",
   "metadata": {},
   "outputs": [],
   "source": [
    "import csv\n",
    "\n",
    "mydict = [{'branch': 'COE', 'cgpa': '9.0',\n",
    "           'name': 'Nikhil', 'year': '2'},\n",
    "          {'branch': 'COE', 'cgpa': '9.1',\n",
    "           'name': 'Sanchit', 'year': '2'},\n",
    "          {'branch': 'IT', 'cgpa': '9.3',\n",
    "           'name': 'Aditya', 'year': '2'},\n",
    "          {'branch': 'SE', 'cgpa': '9.5',\n",
    "           'name': 'Sagar', 'year': '1'},\n",
    "          {'branch': 'MCE', 'cgpa': '7.8',\n",
    "           'name': 'Prateek', 'year': '3'},\n",
    "          {'branch': 'EP', 'cgpa': '9.1',\n",
    "           'name': 'Sahil', 'year': '2'}]\n",
    "\n",
    "# field names\n",
    "fields = ['name', 'branch', 'year', 'cgpa']\n",
    "\n",
    "filename = 'csv-dict.csv'\n",
    "\n",
    "with open(filename,'w') as csvfile:\n",
    "    writer = csv.DictWriter(csvfile, fieldnames=fields)\n",
    "    writer.writeheader()\n",
    "    writer.writerows(mydict)\n"
   ]
  },
  {
   "cell_type": "markdown",
   "id": "dd31fed5",
   "metadata": {},
   "source": [
    "##### read csv of dict file"
   ]
  },
  {
   "cell_type": "code",
   "execution_count": 17,
   "id": "d3790b29",
   "metadata": {},
   "outputs": [
    {
     "name": "stdout",
     "output_type": "stream",
     "text": [
      "[['name', 'branch', 'year', 'cgpa'], ['Nikhil', 'COE', '2', '9.0'], ['Sanchit', 'COE', '2', '9.1'], ['Aditya', 'IT', '2', '9.3'], ['Sagar', 'SE', '1', '9.5'], ['Prateek', 'MCE', '3', '7.8'], ['Sahil', 'EP', '2', '9.1']]\n"
     ]
    }
   ],
   "source": [
    "import csv\n",
    "\n",
    "filename = 'csv-dict.csv'\n",
    "\n",
    "with open(filename, 'r') as csvfile:\n",
    "    reader = csv.reader(csvfile)\n",
    "\n",
    "    data = []\n",
    "    for row in reader:\n",
    "        data.append(row)\n",
    "\n",
    "print(data)"
   ]
  },
  {
   "cell_type": "code",
   "execution_count": null,
   "id": "07631879",
   "metadata": {},
   "outputs": [],
   "source": []
  }
 ],
 "metadata": {
  "kernelspec": {
   "display_name": "Python 3",
   "language": "python",
   "name": "python3"
  },
  "language_info": {
   "codemirror_mode": {
    "name": "ipython",
    "version": 3
   },
   "file_extension": ".py",
   "mimetype": "text/x-python",
   "name": "python",
   "nbconvert_exporter": "python",
   "pygments_lexer": "ipython3",
   "version": "3.8.10"
  }
 },
 "nbformat": 4,
 "nbformat_minor": 5
}
