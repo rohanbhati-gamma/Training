{
 "cells": [
  {
   "cell_type": "code",
   "execution_count": 1,
   "id": "d3ea9592",
   "metadata": {},
   "outputs": [
    {
     "ename": "ZeroDivisionError",
     "evalue": "division by zero",
     "output_type": "error",
     "traceback": [
      "\u001b[0;31m---------------------------------------------------------------------------\u001b[0m",
      "\u001b[0;31mZeroDivisionError\u001b[0m                         Traceback (most recent call last)",
      "Cell \u001b[0;32mIn[1], line 2\u001b[0m\n\u001b[1;32m      1\u001b[0m n \u001b[38;5;241m=\u001b[39m \u001b[38;5;241m34\u001b[39m\n\u001b[0;32m----> 2\u001b[0m \u001b[38;5;28mprint\u001b[39m(\u001b[43mn\u001b[49m\u001b[38;5;241;43m/\u001b[39;49m\u001b[38;5;241;43m0\u001b[39;49m)\n",
      "\u001b[0;31mZeroDivisionError\u001b[0m: division by zero"
     ]
    }
   ],
   "source": [
    "n = 34\n",
    "print(n/0)"
   ]
  },
  {
   "cell_type": "code",
   "execution_count": 3,
   "id": "efb16ea7",
   "metadata": {},
   "outputs": [
    {
     "name": "stdout",
     "output_type": "stream",
     "text": [
      "can't divide by 0\n"
     ]
    }
   ],
   "source": [
    "try:\n",
    "    print(n/0)\n",
    "except ZeroDivisionError:\n",
    "    print('can\\'t divide by 0')\n"
   ]
  },
  {
   "cell_type": "markdown",
   "id": "f6c80b4b",
   "metadata": {},
   "source": [
    "##### try, except, else, finally Block"
   ]
  },
  {
   "cell_type": "code",
   "execution_count": null,
   "id": "b34eb901",
   "metadata": {},
   "outputs": [
    {
     "name": "stdout",
     "output_type": "stream",
     "text": [
      "3\n",
      "try block executed if no error occurs\n",
      "This always execute\n"
     ]
    }
   ],
   "source": [
    "num = 3\n",
    "\n",
    "try:\n",
    "    print(num/0)\n",
    "\n",
    "except ZeroDivisionError as e:\n",
    "    print(e)\n",
    "\n",
    "else:\n",
    "    print('try block executed if no error occurs')\n",
    "\n",
    "finally:\n",
    "    print('This always execute')"
   ]
  },
  {
   "cell_type": "markdown",
   "id": "fb262c72",
   "metadata": {},
   "source": [
    "##### Specific Exceptions"
   ]
  },
  {
   "cell_type": "code",
   "execution_count": 13,
   "id": "f90aaac7",
   "metadata": {},
   "outputs": [
    {
     "name": "stdout",
     "output_type": "stream",
     "text": [
      "Value Error Occured\n"
     ]
    }
   ],
   "source": [
    "try:\n",
    "    x = int('str')\n",
    "\n",
    "except ValueError:\n",
    "    print('Value Error Occured')\n",
    "\n",
    "except ZeroDivisionError:\n",
    "    print('Zero Division Error Occured')\n",
    "\n",
    "except:\n",
    "    print('Something went wrong')"
   ]
  },
  {
   "cell_type": "markdown",
   "id": "3d94338e",
   "metadata": {},
   "source": [
    "##### Handling Multiple Exceptions"
   ]
  },
  {
   "cell_type": "code",
   "execution_count": 16,
   "id": "1d7a124c",
   "metadata": {},
   "outputs": [
    {
     "name": "stdout",
     "output_type": "stream",
     "text": [
      "Error Name unsupported operand type(s) for +: 'int' and 'str'\n"
     ]
    }
   ],
   "source": [
    "a = [10,'f']\n",
    "try:\n",
    "    a[0]+a[1]\n",
    "\n",
    "except (ValueError, TypeError) as e:\n",
    "    print('Error Name', e)\n",
    "\n",
    "except:\n",
    "    print('Something wrong')\n"
   ]
  },
  {
   "cell_type": "markdown",
   "id": "c0193bfd",
   "metadata": {},
   "source": [
    "##### Custom Exceptions"
   ]
  },
  {
   "cell_type": "code",
   "execution_count": 20,
   "id": "8fdba68e",
   "metadata": {},
   "outputs": [
    {
     "name": "stdout",
     "output_type": "stream",
     "text": [
      "Age must be between 0 to 100\n"
     ]
    }
   ],
   "source": [
    "class InvalidAge(Exception):\n",
    "    def __init__(self, age, msg='Age must be between 0 to 100'):\n",
    "        self.age = age\n",
    "        self.msg = msg\n",
    "\n",
    "    def __str__(self):\n",
    "        return f'{self.msg}'\n",
    "    \n",
    "age = -4\n",
    "try:\n",
    "    if age<0 or age>100:\n",
    "        raise InvalidAge(age)\n",
    "    else:\n",
    "        print('Correct Age')\n",
    "except InvalidAge as e:\n",
    "    \n",
    "    print(e)\n",
    "    \n"
   ]
  },
  {
   "cell_type": "code",
   "execution_count": null,
   "id": "c5fd8b35",
   "metadata": {},
   "outputs": [],
   "source": []
  }
 ],
 "metadata": {
  "kernelspec": {
   "display_name": "Python 3",
   "language": "python",
   "name": "python3"
  },
  "language_info": {
   "codemirror_mode": {
    "name": "ipython",
    "version": 3
   },
   "file_extension": ".py",
   "mimetype": "text/x-python",
   "name": "python",
   "nbconvert_exporter": "python",
   "pygments_lexer": "ipython3",
   "version": "3.8.10"
  }
 },
 "nbformat": 4,
 "nbformat_minor": 5
}
