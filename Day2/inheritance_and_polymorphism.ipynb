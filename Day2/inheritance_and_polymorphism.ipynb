{
 "cells": [
  {
   "cell_type": "markdown",
   "id": "b94b82d2",
   "metadata": {},
   "source": [
    "##### Single Inheritance"
   ]
  },
  {
   "cell_type": "code",
   "execution_count": 4,
   "id": "2a2777b4",
   "metadata": {},
   "outputs": [
    {
     "data": {
      "text/plain": [
       "'Bob Speak'"
      ]
     },
     "execution_count": 4,
     "metadata": {},
     "output_type": "execute_result"
    }
   ],
   "source": [
    "class Animal:\n",
    "    def __init__(self,name):\n",
    "        self.name = name\n",
    "\n",
    "    def speak(self):\n",
    "        print('Animal Class')\n",
    "\n",
    "class Dog(Animal):\n",
    "    def speak(self):\n",
    "        return f'{self.name} Speak'\n",
    "    \n",
    "obj = Dog('Bob')\n",
    "obj.speak()"
   ]
  },
  {
   "cell_type": "markdown",
   "id": "c76dfae8",
   "metadata": {},
   "source": [
    "##### Multiple Inheritance"
   ]
  },
  {
   "cell_type": "code",
   "execution_count": 7,
   "id": "3a138253",
   "metadata": {},
   "outputs": [
    {
     "name": "stdout",
     "output_type": "stream",
     "text": [
      "detail method\n",
      "skill method\n"
     ]
    }
   ],
   "source": [
    "class Person:\n",
    "    def get_details(self):\n",
    "        return 'detail method'\n",
    "    \n",
    "class Athelete:\n",
    "    def get_skill(self):\n",
    "        return 'skill method'\n",
    "    \n",
    "class Student(Person, Athelete):\n",
    "    pass\n",
    "\n",
    "obj = Student()\n",
    "print(obj.get_details())\n",
    "print(obj.get_skill())\n",
    "\n"
   ]
  },
  {
   "cell_type": "code",
   "execution_count": 37,
   "id": "170a7d35",
   "metadata": {},
   "outputs": [
    {
     "ename": "TypeError",
     "evalue": "__init__() takes 3 positional arguments but 4 were given",
     "output_type": "error",
     "traceback": [
      "\u001b[0;31m---------------------------------------------------------------------------\u001b[0m",
      "\u001b[0;31mTypeError\u001b[0m                                 Traceback (most recent call last)",
      "Cell \u001b[0;32mIn[37], line 25\u001b[0m\n\u001b[1;32m     22\u001b[0m     \u001b[38;5;28;01mdef\u001b[39;00m\u001b[38;5;250m \u001b[39m\u001b[38;5;21mget_graduation\u001b[39m(\u001b[38;5;28mself\u001b[39m):\n\u001b[1;32m     23\u001b[0m         \u001b[38;5;28;01mreturn\u001b[39;00m \u001b[38;5;124mf\u001b[39m\u001b[38;5;124m'\u001b[39m\u001b[38;5;124mgraduation : \u001b[39m\u001b[38;5;132;01m{\u001b[39;00m\u001b[38;5;28mself\u001b[39m\u001b[38;5;241m.\u001b[39mdegree\u001b[38;5;132;01m}\u001b[39;00m\u001b[38;5;124m'\u001b[39m\n\u001b[0;32m---> 25\u001b[0m obj \u001b[38;5;241m=\u001b[39m \u001b[43mGraduation\u001b[49m\u001b[43m(\u001b[49m\u001b[38;5;124;43m\"\u001b[39;49m\u001b[38;5;124;43mCharlie\u001b[39;49m\u001b[38;5;124;43m\"\u001b[39;49m\u001b[43m,\u001b[49m\u001b[43m \u001b[49m\u001b[38;5;241;43m91011\u001b[39;49m\u001b[43m,\u001b[49m\u001b[38;5;124;43m'\u001b[39;49m\u001b[38;5;124;43mA\u001b[39;49m\u001b[38;5;124;43m'\u001b[39;49m\u001b[43m,\u001b[49m\u001b[43m \u001b[49m\u001b[38;5;124;43m\"\u001b[39;49m\u001b[38;5;124;43mAI in Healthcare\u001b[39;49m\u001b[38;5;124;43m\"\u001b[39;49m\u001b[43m)\u001b[49m\n\u001b[1;32m     26\u001b[0m obj\u001b[38;5;241m.\u001b[39mget_graduation()\n\u001b[1;32m     27\u001b[0m obj\u001b[38;5;241m.\u001b[39mget_marks()\n",
      "Cell \u001b[0;32mIn[37], line 19\u001b[0m, in \u001b[0;36mGraduation.__init__\u001b[0;34m(self, name, id, marks, degree)\u001b[0m\n\u001b[1;32m     18\u001b[0m \u001b[38;5;28;01mdef\u001b[39;00m\u001b[38;5;250m \u001b[39m\u001b[38;5;21m__init__\u001b[39m(\u001b[38;5;28mself\u001b[39m, name, \u001b[38;5;28mid\u001b[39m, marks, degree):\n\u001b[0;32m---> 19\u001b[0m     \u001b[38;5;28;43msuper\u001b[39;49m\u001b[43m(\u001b[49m\u001b[43m)\u001b[49m\u001b[38;5;241;43m.\u001b[39;49m\u001b[38;5;21;43m__init__\u001b[39;49m\u001b[43m(\u001b[49m\u001b[43mname\u001b[49m\u001b[43m,\u001b[49m\u001b[43m \u001b[49m\u001b[38;5;28;43mid\u001b[39;49m\u001b[43m,\u001b[49m\u001b[43m \u001b[49m\u001b[43mmarks\u001b[49m\u001b[43m)\u001b[49m\n\u001b[1;32m     20\u001b[0m     \u001b[38;5;28mself\u001b[39m\u001b[38;5;241m.\u001b[39mdegree \u001b[38;5;241m=\u001b[39m degree\n",
      "Cell \u001b[0;32mIn[37], line 11\u001b[0m, in \u001b[0;36mStudent.__init__\u001b[0;34m(self, name, id, marks)\u001b[0m\n\u001b[1;32m     10\u001b[0m \u001b[38;5;28;01mdef\u001b[39;00m\u001b[38;5;250m \u001b[39m\u001b[38;5;21m__init__\u001b[39m(\u001b[38;5;28mself\u001b[39m,name, \u001b[38;5;28mid\u001b[39m, marks):\n\u001b[0;32m---> 11\u001b[0m     \u001b[38;5;28;43msuper\u001b[39;49m\u001b[43m(\u001b[49m\u001b[43m)\u001b[49m\u001b[38;5;241;43m.\u001b[39;49m\u001b[38;5;21;43m__init__\u001b[39;49m\u001b[43m(\u001b[49m\u001b[38;5;28;43mself\u001b[39;49m\u001b[43m,\u001b[49m\u001b[43m \u001b[49m\u001b[43mname\u001b[49m\u001b[43m,\u001b[49m\u001b[43m \u001b[49m\u001b[38;5;28;43mid\u001b[39;49m\u001b[43m)\u001b[49m\n\u001b[1;32m     12\u001b[0m     \u001b[38;5;28mself\u001b[39m\u001b[38;5;241m.\u001b[39mmarks \u001b[38;5;241m=\u001b[39m marks\n",
      "\u001b[0;31mTypeError\u001b[0m: __init__() takes 3 positional arguments but 4 were given"
     ]
    }
   ],
   "source": [
    "class Person:\n",
    "    def __init__(self, name, id):\n",
    "        self.name = name\n",
    "        self.id = id\n",
    "\n",
    "    def get_detail(self):\n",
    "        return f'Name : {self.name}  id : {self.id}'\n",
    "    \n",
    "class Student(Person):\n",
    "    def __init__(self,name, id, marks):\n",
    "        super().__init__(self, name, id)\n",
    "        self.marks = marks\n",
    "\n",
    "    def get_marks(self):\n",
    "        return f'marks : {self.marks}'\n",
    "    \n",
    "class Graduation(Student):\n",
    "    def __init__(self, name, id, marks, degree):\n",
    "        super().__init__(name, id, marks)\n",
    "        self.degree = degree\n",
    "\n",
    "    def get_graduation(self):\n",
    "        return f'graduation : {self.degree}'\n",
    "\n",
    "obj = Graduation(\"Charlie\", 91011,'A', \"AI in Healthcare\")\n",
    "obj.get_graduation()\n",
    "obj.get_marks()\n",
    "obj.get_detail()"
   ]
  },
  {
   "cell_type": "code",
   "execution_count": null,
   "id": "3f6d8338",
   "metadata": {},
   "outputs": [
    {
     "name": "stdout",
     "output_type": "stream",
     "text": [
      "Name: Charlie, ID: 91011\n",
      "Name: Charlie, ID: 91011, Grade: A\n",
      "Name: Charlie, ID: 91011, Grade: A, Thesis: AI in Healthcare\n"
     ]
    }
   ],
   "source": [
    "class Person:\n",
    "    def __init__(self, name, id):\n",
    "        self.name = name\n",
    "        self.id = id\n",
    "\n",
    "    def get_details(self):\n",
    "        return f\"Name: {self.name}, ID: {self.id}\"\n",
    "\n",
    "class Student(Person):\n",
    "    def __init__(self, name, id, grade):\n",
    "        super().__init__(name, id)\n",
    "        self.grade = grade\n",
    "\n",
    "    def get_marks(self):\n",
    "        return f\"Name: {self.name}, ID: {self.id}, Grade: {self.grade}\"\n",
    "\n",
    "class GraduateStudent(Student):\n",
    "    def __init__(self, name, id, grade, thesis_title):\n",
    "        super().__init__(name, id, grade)\n",
    "        self.thesis_title = thesis_title\n",
    "\n",
    "    def get_tite(self):\n",
    "        return f\"Name: {self.name}, ID: {self.id}, Grade: {self.grade}, Thesis: {self.thesis_title}\"\n",
    "\n",
    "grad_student = GraduateStudent(\"Charlie\", 91011, \"A\", \"AI in Healthcare\")\n",
    "print(grad_student.get_details())\n",
    "print(grad_student.get_marks())\n",
    "print(grad_student.get_tite())"
   ]
  },
  {
   "cell_type": "markdown",
   "id": "498e60a7",
   "metadata": {},
   "source": [
    "##### Hierarchical Inheritance"
   ]
  },
  {
   "cell_type": "code",
   "execution_count": 23,
   "id": "dcddedf5",
   "metadata": {},
   "outputs": [
    {
     "name": "stdout",
     "output_type": "stream",
     "text": [
      "Name : A  Id : 1\n",
      "Marks : 87\n",
      "Name : B  Id : 102\n",
      "Subject : Machine Learning\n"
     ]
    }
   ],
   "source": [
    "class Person:\n",
    "    def __init__(self, name, id):\n",
    "        self.name = name\n",
    "        self.id = id\n",
    "\n",
    "    def get_detail(self):\n",
    "        return f'Name : {self.name}  Id : {self.id}'\n",
    "    \n",
    "class Student(Person):\n",
    "    def __init__(self, name, id, marks):\n",
    "        super().__init__(name, id)\n",
    "        self.marks = marks\n",
    "    \n",
    "    def get_marks(self):\n",
    "        return f'Marks : {self.marks}'\n",
    "\n",
    "class Teacher(Person):\n",
    "    def __init__(self, name, id, subject):\n",
    "        super().__init__(name, id)\n",
    "        self.subject = subject\n",
    "\n",
    "    def get_subject(self):\n",
    "        return f'Subject : {self.subject}'\n",
    "\n",
    "obj1 = Student('A', 1, 87)\n",
    "obj2 = Teacher('B', 102, 'Machine Learning')\n",
    "\n",
    "print(obj1.get_detail())\n",
    "print(obj1.get_marks())\n",
    "\n",
    "print(obj2.get_detail())\n",
    "print(obj2.get_subject())"
   ]
  },
  {
   "cell_type": "markdown",
   "id": "bde31844",
   "metadata": {},
   "source": [
    "##### Hybrid Inheritance"
   ]
  },
  {
   "cell_type": "code",
   "execution_count": 31,
   "id": "71006ce6",
   "metadata": {},
   "outputs": [
    {
     "name": "stdout",
     "output_type": "stream",
     "text": [
      "Name : Samuel, ID : 1234\n",
      "Position : Intern\n",
      "Sport : Soccer\n",
      "Grade: A\n"
     ]
    }
   ],
   "source": [
    "class Person:\n",
    "    def __init__(self, name, id):\n",
    "        self.name = name\n",
    "        self.id = id\n",
    "\n",
    "    def get_detail(self):\n",
    "        return f'Name : {self.name}, ID : {self.id}'\n",
    "    \n",
    "class Employee(Person):\n",
    "    def __init__(self, name, id, position):\n",
    "        super().__init__(name, id)\n",
    "        self.position =  position\n",
    "\n",
    "    def get_position(self):\n",
    "        return f'Position : {self.position}'\n",
    "    \n",
    "class Athlete:\n",
    "    def __init__(self, sport):\n",
    "        self.sport = sport\n",
    "    \n",
    "    def get_sport(self):\n",
    "        return f'Sport : {self.sport}'\n",
    "    \n",
    "class Student(Employee, Athlete):\n",
    "    def __init__(self, name, id, position, grade, sport):\n",
    "        Employee.__init__(self, name, id, position)\n",
    "        Athlete.__init__(self, sport)\n",
    "        self.grade = grade\n",
    "\n",
    "    def get_marks(self):\n",
    "        return f\"Grade: {self.grade}\"\n",
    "\n",
    "    \n",
    "student = Student(\"Samuel\", 1234, \"Intern\", \"A\", \"Soccer\")\n",
    "print(student.get_detail())\n",
    "print(student.get_position())\n",
    "print(student.get_sport())\n",
    "print(student.get_marks())\n"
   ]
  },
  {
   "cell_type": "markdown",
   "id": "a604caa4",
   "metadata": {},
   "source": [
    "##### Polymorphism"
   ]
  },
  {
   "cell_type": "code",
   "execution_count": 39,
   "id": "4afbb7e8",
   "metadata": {},
   "outputs": [
    {
     "name": "stdout",
     "output_type": "stream",
     "text": [
      "Name : Kitty, Age : 10\n",
      "Name : Fluffy, Age : 12\n"
     ]
    }
   ],
   "source": [
    "# same name but different forms\n",
    "\n",
    "class Cat:\n",
    "    def __init__(self, name, age):\n",
    "        self.name = name\n",
    "        self.age = age\n",
    "\n",
    "    def info(self):\n",
    "        return f'Name : {self.name}, Age : {self.age}'\n",
    "    \n",
    "class Dog:\n",
    "    def __init__(self, name, age):\n",
    "        self.name = name\n",
    "        self.age = age\n",
    "\n",
    "    def info(self):\n",
    "        return f'Name : {self.name}, Age : {self.age}'\n",
    "    \n",
    "cat = Cat('Kitty', 10)\n",
    "dog = Dog('Fluffy', 12)\n",
    "\n",
    "print(cat.info())\n",
    "print(dog.info())"
   ]
  },
  {
   "cell_type": "markdown",
   "id": "fdde8b04",
   "metadata": {},
   "source": [
    "##### Polymorphism and Inheritance\n"
   ]
  },
  {
   "cell_type": "code",
   "execution_count": 55,
   "id": "2ad1541e",
   "metadata": {},
   "outputs": [
    {
     "name": "stdout",
     "output_type": "stream",
     "text": [
      "Circle\n",
      "This is Shape class Fact Method\n",
      "area of circle 28.259999999999998\n",
      "Square\n",
      "Each side of sqaure is on 90 degree angle\n",
      "area of sqare is 16\n"
     ]
    }
   ],
   "source": [
    "# it allows us to access these overridden methods and attributes that have the same name as the parent\n",
    "\n",
    "class Shape:\n",
    "    def __init__(self, name):\n",
    "        self.name = name\n",
    "    \n",
    "    def get_area(self):\n",
    "        pass\n",
    "\n",
    "    def fact(self):\n",
    "        return 'This is Shape class Fact Method'\n",
    "\n",
    "    def __str__(self):\n",
    "        return f'{self.name}'\n",
    "    \n",
    "class Circle(Shape):\n",
    "    def __init__(self,radius):\n",
    "        super().__init__('Circle')\n",
    "        self.radius = radius\n",
    "\n",
    "    def get_area(self):\n",
    "        return f'area of circle {3.14*self.radius*self.radius}'\n",
    "    \n",
    "class Square(Shape):\n",
    "    def __init__(self,length):\n",
    "        super().__init__('Square')\n",
    "        self.length = length\n",
    "\n",
    "    def fact(self):\n",
    "        return 'Each side of sqaure is on 90 degree angle'\n",
    "    \n",
    "    def get_area(self):\n",
    "        return f'area of sqare is {self.length**2}'\n",
    "\n",
    "circle = Circle(3)\n",
    "square = Square(4)\n",
    "print(circle)\n",
    "print(circle.fact())\n",
    "print(circle.get_area())\n",
    "\n",
    "print(square)\n",
    "print(square.fact())\n",
    "print(square.get_area())"
   ]
  },
  {
   "cell_type": "markdown",
   "id": "f4695e32",
   "metadata": {},
   "source": [
    "##### Duck Typing"
   ]
  },
  {
   "cell_type": "code",
   "execution_count": 59,
   "id": "f3b08e7a",
   "metadata": {},
   "outputs": [
    {
     "name": "stdout",
     "output_type": "stream",
     "text": [
      "quack quack\n",
      "I'm similar to duck\n"
     ]
    }
   ],
   "source": [
    "class Duck:\n",
    "    def sound(self):\n",
    "        return 'quack quack'\n",
    "class Bird:\n",
    "    def sound(self):\n",
    "        return \"I'm similar to duck\"\n",
    "    \n",
    "def sound(duck):\n",
    "    print(duck.sound())\n",
    "\n",
    "duck = Duck()\n",
    "bird = Bird()\n",
    "sound(duck)\n",
    "sound(bird)"
   ]
  },
  {
   "cell_type": "markdown",
   "id": "f42fe721",
   "metadata": {},
   "source": [
    "##### Method Overriding"
   ]
  },
  {
   "cell_type": "code",
   "execution_count": 73,
   "id": "0f8cda9f",
   "metadata": {},
   "outputs": [
    {
     "name": "stdout",
     "output_type": "stream",
     "text": [
      "Bark\n"
     ]
    }
   ],
   "source": [
    "# method name of the subclass is same as superclass\n",
    "from abc import ABC, abstractmethod\n",
    "\n",
    "class Animal(ABC):\n",
    "    @abstractmethod\n",
    "    def sound(self):\n",
    "        pass\n",
    "\n",
    "class Dog(Animal):\n",
    "    def sound(self):\n",
    "        return 'Bark'\n",
    "    \n",
    "obj = Dog()\n",
    "print(obj.sound())\n",
    "\n",
    "# o = Animal()\n",
    "# o.sound()"
   ]
  },
  {
   "cell_type": "markdown",
   "id": "3a114edc",
   "metadata": {},
   "source": [
    "##### Method Overloading"
   ]
  },
  {
   "cell_type": "code",
   "execution_count": 66,
   "id": "da87feee",
   "metadata": {},
   "outputs": [
    {
     "name": "stdout",
     "output_type": "stream",
     "text": [
      "5\n",
      "6\n"
     ]
    }
   ],
   "source": [
    "class Demo:\n",
    "    def addition(self,*args):\n",
    "        return sum(args)\n",
    "\n",
    "o = Demo()\n",
    "print(o.addition(2,3))\n",
    "print(o.addition(1,2,3))"
   ]
  },
  {
   "cell_type": "markdown",
   "id": "e087e778",
   "metadata": {},
   "source": [
    "##### Static Method"
   ]
  },
  {
   "cell_type": "code",
   "execution_count": null,
   "id": "2cbe891d",
   "metadata": {},
   "outputs": [
    {
     "name": "stdout",
     "output_type": "stream",
     "text": [
      "Is age greater than 18 : False\n",
      "Is age greater than 18 : True\n"
     ]
    }
   ],
   "source": [
    "# it doesn't require any instances\n",
    "class Person:\n",
    "    def __init__(self, name, age):\n",
    "        self.name = name\n",
    "        self.age = age\n",
    "\n",
    "    @staticmethod\n",
    "    def isAdult(age):\n",
    "        return f'Is age greater than 18 : {age>18}'\n",
    "\n",
    "obj = Person('A', 24)\n",
    "print(obj.isAdult(12))\n",
    "\n",
    "# call without object\n",
    "print(Person.isAdult(34))\n",
    "\n"
   ]
  },
  {
   "cell_type": "markdown",
   "id": "08a04e65",
   "metadata": {},
   "source": [
    "##### Class Method"
   ]
  },
  {
   "cell_type": "code",
   "execution_count": 82,
   "id": "09bb7158",
   "metadata": {},
   "outputs": [
    {
     "name": "stdout",
     "output_type": "stream",
     "text": [
      "Total instances of class : 2\n"
     ]
    }
   ],
   "source": [
    "class Demo:\n",
    "    n_instances = []\n",
    "\n",
    "    def __init__(self):\n",
    "        Demo.n_instances.append(self)\n",
    "\n",
    "    @classmethod\n",
    "    def number_of_instances(cls):\n",
    "        return f'Total instances of class : {len(cls.n_instances)}'\n",
    "\n",
    "ob1 = Demo()\n",
    "ob2 = Demo()\n",
    "\n",
    "print(Demo.number_of_instances())"
   ]
  },
  {
   "cell_type": "code",
   "execution_count": null,
   "id": "082730d6",
   "metadata": {},
   "outputs": [],
   "source": []
  }
 ],
 "metadata": {
  "kernelspec": {
   "display_name": "Python 3",
   "language": "python",
   "name": "python3"
  },
  "language_info": {
   "codemirror_mode": {
    "name": "ipython",
    "version": 3
   },
   "file_extension": ".py",
   "mimetype": "text/x-python",
   "name": "python",
   "nbconvert_exporter": "python",
   "pygments_lexer": "ipython3",
   "version": "3.8.10"
  }
 },
 "nbformat": 4,
 "nbformat_minor": 5
}
