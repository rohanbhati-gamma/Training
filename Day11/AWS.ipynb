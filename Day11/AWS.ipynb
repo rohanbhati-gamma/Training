{
 "cells": [
  {
   "cell_type": "markdown",
   "id": "8e5f74a8",
   "metadata": {},
   "source": [
    "#### AWS\n",
    "Cloud computing platform, provide wide range of services with a pay-as-you-go pricing model.\n",
    "\n",
    "AWS TOP Services\n",
    "\n",
    "First product S3(Simple Storage Service) manage scalable storage.(Store files of different types)\n",
    "\n",
    "Amazon EC2(Elastic Cloud Computing) provide virtual machines.\n",
    "\n",
    "AWS Lambda - Serverless compute function, allowing developers to run code without managing servers.\n",
    "\n",
    "AWS RDS(Relational Database Service) - simplifies the management of database providing high available relational database in the cloud\n",
    "\n",
    "AWS VPC(Virtual Private Cloud) - user can launch their virtual machine in a protected.\n"
   ]
  },
  {
   "cell_type": "markdown",
   "id": "be424415",
   "metadata": {},
   "source": [
    "#### Auto Sclaing and Load Balancing\n",
    "Auto Scaling - Automatically adjust the number of EC2 instances based on demand.\n",
    "\n",
    "ELB - Distributes traffic across multiple servers for better performance and uptime."
   ]
  },
  {
   "cell_type": "markdown",
   "id": "f3b1777f",
   "metadata": {},
   "source": [
    "### Computing Models\n",
    "##### Infrastructure as a Service(IaaS)\n",
    "Provide virtual computing resources over the internet(servers, storage, networking)\n",
    "\n",
    "EC2, S3, VPC\n",
    "\n",
    "##### Platform as a Service(PaaS)\n",
    "Provide platform the to build, deploy and manage applications without managing infrastructure.\n",
    "\n",
    "AWS Elastic Beanstalk, AWS Lambda, Amazon RDS\n",
    "\n",
    "##### Software as a Service(SaaS)\n",
    "Complete software delieverd via internet\n",
    "\n",
    "Amazon Chime(video conferencing), AWS WorkMail(mail), AmazonQuicksight(BI & Analytics)"
   ]
  },
  {
   "cell_type": "markdown",
   "id": "d3509bfe",
   "metadata": {},
   "source": [
    "### EC2 (Elastic Computer Cloud)\n",
    "On demand computing service. It lets you rent virtual computers to run your application. We configure EC2-Instance in a very secure manner by using the VPC, Subnets, and Security Manager.\n",
    "\n",
    "Deploying Applications, Scaling Applications, Deploying ML Models, Hybrid Cloud Environment.\n",
    "\n",
    "##### EC2 Instance Types\n",
    "General Purpose(T3, M5), Compute Optimized(C5, C6g), Memory-Optimized(R5,X1e)"
   ]
  },
  {
   "cell_type": "markdown",
   "id": "172b2785",
   "metadata": {},
   "source": [
    "### AWS Lambda\n",
    "Powerful serverless compute service that automatically runs code in response to events, without requiring you to manage the underlying infrastructure.\n",
    "\n",
    "automatically scales application based on traffic, handling server management, auto-scaling, security patching and monitoring."
   ]
  },
  {
   "cell_type": "markdown",
   "id": "c2041f23",
   "metadata": {},
   "source": [
    "### Amazon Elastic Container Service(ECS)\n",
    "fully managed service that enables users to run docker-based applications in containers across a cluster of EC2 instances."
   ]
  },
  {
   "cell_type": "markdown",
   "id": "4b014392",
   "metadata": {},
   "source": [
    "### Amazon S3(Simple Storage Service)\n",
    "It provides a secure and scalable repository for storing of Objects such as Text data, Images, Audio and Video files over AWS Cloud. accessable via API/HTTP. It is object storage."
   ]
  },
  {
   "cell_type": "markdown",
   "id": "6b48725d",
   "metadata": {},
   "source": []
  },
  {
   "cell_type": "markdown",
   "id": "e5e519bb",
   "metadata": {},
   "source": [
    "### EBS (Elastic Block Storage)\n",
    "It is a block type storage, that can be attached to EC2 instances for additional storage. Access method File System."
   ]
  },
  {
   "cell_type": "markdown",
   "id": "e1ba722a",
   "metadata": {},
   "source": [
    "### RDS(Relational Database Service)\n",
    "Offers a wide range of database like MySql, Postgres, Oracle, Sqlserver"
   ]
  },
  {
   "cell_type": "markdown",
   "id": "b42e801c",
   "metadata": {},
   "source": [
    "## ML Services\n",
    "### AWS Sage Maker\n",
    "fully managed service that simplifies the process of building, training, and deploying machine learning models.\n",
    "\n",
    "### AWS Deeplens\n",
    "It is designed to make it easy for developers to create and deploy deep learning models on edge devices, such as cameras and robots. Develperps can use pre built-models or build their own models to perform task such as object detection, image classification, and facial recognition."
   ]
  },
  {
   "cell_type": "markdown",
   "id": "098444b4",
   "metadata": {},
   "source": []
  }
 ],
 "metadata": {
  "language_info": {
   "name": "python"
  }
 },
 "nbformat": 4,
 "nbformat_minor": 5
}
