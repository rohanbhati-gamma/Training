{
 "cells": [
  {
   "cell_type": "code",
   "execution_count": 1,
   "id": "04a32828",
   "metadata": {},
   "outputs": [],
   "source": [
    "import sqlite3\n",
    "connection = sqlite3.connect('demo.db')"
   ]
  },
  {
   "cell_type": "code",
   "execution_count": 2,
   "id": "76242676",
   "metadata": {},
   "outputs": [],
   "source": [
    "cur = connection.cursor()"
   ]
  },
  {
   "cell_type": "markdown",
   "id": "0bf25bfe",
   "metadata": {},
   "source": [
    "##### Create"
   ]
  },
  {
   "cell_type": "code",
   "execution_count": 3,
   "id": "641df506",
   "metadata": {},
   "outputs": [
    {
     "data": {
      "text/plain": [
       "<sqlite3.Cursor at 0x7fd57423c960>"
      ]
     },
     "execution_count": 3,
     "metadata": {},
     "output_type": "execute_result"
    }
   ],
   "source": [
    "cur.execute('''create table student(\n",
    "                name text,\n",
    "                points integer,\n",
    "                accuracy real\n",
    "            );''')"
   ]
  },
  {
   "cell_type": "code",
   "execution_count": 4,
   "id": "659ed65f",
   "metadata": {},
   "outputs": [
    {
     "data": {
      "text/plain": [
       "<sqlite3.Cursor at 0x7fd57423c960>"
      ]
     },
     "execution_count": 4,
     "metadata": {},
     "output_type": "execute_result"
    }
   ],
   "source": [
    "cur.execute('''insert into student values(\"A\", 10, 78.9)''')\n",
    "cur.execute('''insert into student values(\"B\", 9, 67.8)''')\n",
    "cur.execute('''insert into student values(\"C\", 8, 98.7)''')"
   ]
  },
  {
   "cell_type": "markdown",
   "id": "f184377b",
   "metadata": {},
   "source": [
    "##### Read"
   ]
  },
  {
   "cell_type": "code",
   "execution_count": 5,
   "id": "2a991644",
   "metadata": {},
   "outputs": [
    {
     "data": {
      "text/plain": [
       "[('A', 10, 78.9), ('C', 8, 98.7)]"
      ]
     },
     "execution_count": 5,
     "metadata": {},
     "output_type": "execute_result"
    }
   ],
   "source": [
    "cur.execute('select * from student where accuracy > 70')\n",
    "cur.fetchall()"
   ]
  },
  {
   "cell_type": "markdown",
   "id": "1def97b9",
   "metadata": {},
   "source": [
    "##### Update"
   ]
  },
  {
   "cell_type": "code",
   "execution_count": 6,
   "id": "2b4234cb",
   "metadata": {},
   "outputs": [
    {
     "data": {
      "text/plain": [
       "[('A', 15, 78.9), ('B', 9, 67.8), ('C', 13, 98.7)]"
      ]
     },
     "execution_count": 6,
     "metadata": {},
     "output_type": "execute_result"
    }
   ],
   "source": [
    "cur.execute('update student set points = points + 5 where accuracy>70')\n",
    "cur.execute('select * from student')\n",
    "cur.fetchall()"
   ]
  },
  {
   "cell_type": "code",
   "execution_count": 3,
   "id": "46091c1e",
   "metadata": {},
   "outputs": [
    {
     "data": {
      "text/plain": [
       "<sqlite3.Cursor at 0x7fe9efd998f0>"
      ]
     },
     "execution_count": 3,
     "metadata": {},
     "output_type": "execute_result"
    }
   ],
   "source": [
    "cur.execute('drop table student')"
   ]
  },
  {
   "cell_type": "code",
   "execution_count": 4,
   "id": "783a73c6",
   "metadata": {},
   "outputs": [],
   "source": [
    "cur.close()"
   ]
  },
  {
   "cell_type": "markdown",
   "id": "d0f8ea7e",
   "metadata": {},
   "source": [
    "##### Delete"
   ]
  },
  {
   "cell_type": "code",
   "execution_count": 8,
   "id": "fe51f14a",
   "metadata": {},
   "outputs": [
    {
     "data": {
      "text/plain": [
       "[('A', 15, 78.9), ('C', 13, 98.7)]"
      ]
     },
     "execution_count": 8,
     "metadata": {},
     "output_type": "execute_result"
    }
   ],
   "source": [
    "cur.execute('delete from student where accuracy<70')\n",
    "cur.execute('select * from student')\n",
    "cur.fetchall()"
   ]
  },
  {
   "cell_type": "code",
   "execution_count": 10,
   "id": "5d545c83",
   "metadata": {},
   "outputs": [],
   "source": [
    "cur.close()"
   ]
  },
  {
   "cell_type": "code",
   "execution_count": null,
   "id": "48b5527b",
   "metadata": {},
   "outputs": [],
   "source": []
  }
 ],
 "metadata": {
  "kernelspec": {
   "display_name": "Python 3",
   "language": "python",
   "name": "python3"
  },
  "language_info": {
   "codemirror_mode": {
    "name": "ipython",
    "version": 3
   },
   "file_extension": ".py",
   "mimetype": "text/x-python",
   "name": "python",
   "nbconvert_exporter": "python",
   "pygments_lexer": "ipython3",
   "version": "3.8.10"
  }
 },
 "nbformat": 4,
 "nbformat_minor": 5
}
