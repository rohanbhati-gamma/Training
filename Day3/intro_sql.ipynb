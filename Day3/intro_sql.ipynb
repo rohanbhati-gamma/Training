{
 "cells": [
  {
   "cell_type": "code",
   "execution_count": 1,
   "id": "1beccc7c",
   "metadata": {},
   "outputs": [],
   "source": [
    "# Features of sqlite\n",
    "# Serverless\n",
    "# self - contained\n",
    "# zero - configuration\n",
    "# Transactional\n",
    "# Single - Database"
   ]
  },
  {
   "cell_type": "code",
   "execution_count": 2,
   "id": "b4e4d5d6",
   "metadata": {},
   "outputs": [],
   "source": [
    "import sqlite3"
   ]
  },
  {
   "cell_type": "code",
   "execution_count": 4,
   "id": "2340b735",
   "metadata": {},
   "outputs": [],
   "source": [
    "conn = sqlite3.connect('demo.db')"
   ]
  },
  {
   "cell_type": "code",
   "execution_count": 5,
   "id": "720033ca",
   "metadata": {},
   "outputs": [],
   "source": [
    "cur = conn.cursor()"
   ]
  },
  {
   "cell_type": "markdown",
   "id": "83e5848f",
   "metadata": {},
   "source": [
    "##### Create Table"
   ]
  },
  {
   "cell_type": "code",
   "execution_count": 6,
   "id": "34e92ff5",
   "metadata": {},
   "outputs": [],
   "source": [
    "table = \"\"\"create table Demo (\n",
    "            Email VARCHAR(255) NOT NULL,\n",
    "            First_Name CHAR(25) NOT NULL,\n",
    "            Last_Name CHAR(25),\n",
    "            Score INT\n",
    ");\"\"\""
   ]
  },
  {
   "cell_type": "code",
   "execution_count": 7,
   "id": "cc220c97",
   "metadata": {},
   "outputs": [
    {
     "data": {
      "text/plain": [
       "<sqlite3.Cursor at 0x7f074d3a8960>"
      ]
     },
     "execution_count": 7,
     "metadata": {},
     "output_type": "execute_result"
    }
   ],
   "source": [
    "cur.execute(table)"
   ]
  },
  {
   "cell_type": "markdown",
   "id": "5400e385",
   "metadata": {},
   "source": [
    "##### Insert Data"
   ]
  },
  {
   "cell_type": "code",
   "execution_count": 9,
   "id": "535f00b4",
   "metadata": {},
   "outputs": [
    {
     "data": {
      "text/plain": [
       "<sqlite3.Cursor at 0x7f074d3a8960>"
      ]
     },
     "execution_count": 9,
     "metadata": {},
     "output_type": "execute_result"
    }
   ],
   "source": [
    "cur.execute('''INSERT INTO Demo VALUES ('ex1@gmail.com', 'Rohan', 'Bhati', 10)''')\n",
    "cur.execute('''INSERT INTO Demo VALUES ('ex2@gmail.com', 'Preet', 'Vani', 10)''')\n",
    "cur.execute('''INSERT INTO Demo VALUES ('ex3@gmail.com', 'Prashant', 'Chouhan', 9)''')"
   ]
  },
  {
   "cell_type": "code",
   "execution_count": 10,
   "id": "475cd04b",
   "metadata": {},
   "outputs": [],
   "source": [
    "data = cur.execute('select * from Demo')"
   ]
  },
  {
   "cell_type": "markdown",
   "id": "b5630a23",
   "metadata": {},
   "source": [
    "##### Read Data"
   ]
  },
  {
   "cell_type": "code",
   "execution_count": 11,
   "id": "34379ec7",
   "metadata": {},
   "outputs": [
    {
     "name": "stdout",
     "output_type": "stream",
     "text": [
      "('ex1@gmail.com', 'Rohan', 'Bhati', 10)\n",
      "('ex2@gmail.com', 'Preet', 'Vani', 10)\n",
      "('ex3@gmail.com', 'Prashant', 'Chouhan', 9)\n"
     ]
    }
   ],
   "source": [
    "for i in data:\n",
    "    print(i)"
   ]
  },
  {
   "cell_type": "markdown",
   "id": "212a228a",
   "metadata": {},
   "source": [
    "##### Where Clause"
   ]
  },
  {
   "cell_type": "code",
   "execution_count": 13,
   "id": "b79daa99",
   "metadata": {},
   "outputs": [
    {
     "data": {
      "text/plain": [
       "<sqlite3.Cursor at 0x7f074d3a8960>"
      ]
     },
     "execution_count": 13,
     "metadata": {},
     "output_type": "execute_result"
    }
   ],
   "source": [
    "cur.execute('select * from Demo where Score=10')"
   ]
  },
  {
   "cell_type": "code",
   "execution_count": 14,
   "id": "17e8b57d",
   "metadata": {},
   "outputs": [
    {
     "data": {
      "text/plain": [
       "[('ex1@gmail.com', 'Rohan', 'Bhati', 10),\n",
       " ('ex2@gmail.com', 'Preet', 'Vani', 10)]"
      ]
     },
     "execution_count": 14,
     "metadata": {},
     "output_type": "execute_result"
    }
   ],
   "source": [
    "cur.fetchall()"
   ]
  },
  {
   "cell_type": "code",
   "execution_count": 18,
   "id": "000d4ff7",
   "metadata": {},
   "outputs": [
    {
     "data": {
      "text/plain": [
       "[('ex2@gmail.com', 'Preet', 'Vani', 10),\n",
       " ('ex3@gmail.com', 'Prashant', 'Chouhan', 9)]"
      ]
     },
     "execution_count": 18,
     "metadata": {},
     "output_type": "execute_result"
    }
   ],
   "source": [
    "cur.execute('select * from Demo where First_Name like \"P%\"')\n",
    "cur.fetchall()"
   ]
  },
  {
   "cell_type": "markdown",
   "id": "b394f71d",
   "metadata": {},
   "source": [
    "##### Order By Clause"
   ]
  },
  {
   "cell_type": "code",
   "execution_count": 19,
   "id": "7d1f5d8e",
   "metadata": {},
   "outputs": [
    {
     "data": {
      "text/plain": [
       "[('ex1@gmail.com',), ('ex2@gmail.com',), ('ex3@gmail.com',)]"
      ]
     },
     "execution_count": 19,
     "metadata": {},
     "output_type": "execute_result"
    }
   ],
   "source": [
    "cur.execute('select Email from Demo order by First_Name desc')\n",
    "cur.fetchall()"
   ]
  },
  {
   "cell_type": "code",
   "execution_count": 21,
   "id": "5c7894c6",
   "metadata": {},
   "outputs": [],
   "source": [
    "conn.close()"
   ]
  },
  {
   "cell_type": "code",
   "execution_count": null,
   "id": "d0238461",
   "metadata": {},
   "outputs": [],
   "source": []
  }
 ],
 "metadata": {
  "kernelspec": {
   "display_name": "Python 3",
   "language": "python",
   "name": "python3"
  },
  "language_info": {
   "codemirror_mode": {
    "name": "ipython",
    "version": 3
   },
   "file_extension": ".py",
   "mimetype": "text/x-python",
   "name": "python",
   "nbconvert_exporter": "python",
   "pygments_lexer": "ipython3",
   "version": "3.8.10"
  }
 },
 "nbformat": 4,
 "nbformat_minor": 5
}
