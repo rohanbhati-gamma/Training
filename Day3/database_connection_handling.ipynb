{
 "cells": [
  {
   "cell_type": "code",
   "execution_count": 1,
   "id": "f0c32e47",
   "metadata": {},
   "outputs": [
    {
     "data": {
      "text/plain": [
       "'\\nTo create a connection between the mysql database and python \\nthe connect() method of mysql.connector() module is used. \\nWe pass the database details like Hostname, username and the password in the method call\\nand that method returns the connection object.\\n'"
      ]
     },
     "execution_count": 1,
     "metadata": {},
     "output_type": "execute_result"
    }
   ],
   "source": [
    "'''\n",
    "To create a connection between the mysql database and python \n",
    "the connect() method of mysql.connector() module is used. \n",
    "We pass the database details like Hostname, username and the password in the method call\n",
    "and that method returns the connection object.\n",
    "'''"
   ]
  },
  {
   "cell_type": "code",
   "execution_count": 2,
   "id": "0e06144d",
   "metadata": {},
   "outputs": [
    {
     "name": "stdout",
     "output_type": "stream",
     "text": [
      "currently Database not connected in sql\n"
     ]
    }
   ],
   "source": [
    "import mysql.connector\n",
    "try:\n",
    "    mydb = mysql.connector.connect(\n",
    "        host = 'localhost',\n",
    "        user = 'username',\n",
    "        password = 'password',\n",
    "        database = 'dbname'\n",
    "    )\n",
    "\n",
    "except mysql.connector.Error as e:\n",
    "        print('currently Database not connected in sql')"
   ]
  },
  {
   "cell_type": "code",
   "execution_count": null,
   "id": "4ab11be0",
   "metadata": {},
   "outputs": [],
   "source": []
  }
 ],
 "metadata": {
  "kernelspec": {
   "display_name": "Python 3",
   "language": "python",
   "name": "python3"
  },
  "language_info": {
   "codemirror_mode": {
    "name": "ipython",
    "version": 3
   },
   "file_extension": ".py",
   "mimetype": "text/x-python",
   "name": "python",
   "nbconvert_exporter": "python",
   "pygments_lexer": "ipython3",
   "version": "3.8.10"
  }
 },
 "nbformat": 4,
 "nbformat_minor": 5
}
