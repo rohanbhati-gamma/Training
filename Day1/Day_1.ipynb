{
 "cells": [
  {
   "cell_type": "markdown",
   "id": "4e20872f",
   "metadata": {},
   "source": [
    "### Understanding python basic syntax"
   ]
  },
  {
   "cell_type": "code",
   "execution_count": 1,
   "id": "3a930969",
   "metadata": {},
   "outputs": [
    {
     "name": "stdout",
     "output_type": "stream",
     "text": [
      "This is print function\n"
     ]
    }
   ],
   "source": [
    "# print function\n",
    "print('This is print function')"
   ]
  },
  {
   "cell_type": "code",
   "execution_count": 2,
   "id": "5d153195",
   "metadata": {},
   "outputs": [
    {
     "name": "stdout",
     "output_type": "stream",
     "text": [
      "True\n"
     ]
    }
   ],
   "source": [
    "# indentation to indicate a block of code\n",
    "if 2<5:\n",
    "    print(True)"
   ]
  },
  {
   "cell_type": "markdown",
   "id": "78e54eab",
   "metadata": {},
   "source": [
    "### Variables "
   ]
  },
  {
   "cell_type": "code",
   "execution_count": 3,
   "id": "9789d2fb",
   "metadata": {},
   "outputs": [
    {
     "name": "stdout",
     "output_type": "stream",
     "text": [
      "5\n",
      "python\n"
     ]
    }
   ],
   "source": [
    "# it is container which store values\n",
    "num = 5\n",
    "name = 'python'\n",
    "print(num)\n",
    "print(name)"
   ]
  },
  {
   "cell_type": "markdown",
   "id": "c8184f79",
   "metadata": {},
   "source": [
    "### Datatypes"
   ]
  },
  {
   "cell_type": "markdown",
   "id": "03ff3121",
   "metadata": {},
   "source": [
    "##### Numeric Datatype"
   ]
  },
  {
   "cell_type": "code",
   "execution_count": 4,
   "id": "c788083c",
   "metadata": {},
   "outputs": [
    {
     "name": "stdout",
     "output_type": "stream",
     "text": [
      "29 <class 'int'>\n",
      "34.5 <class 'float'>\n",
      "(2+5j) <class 'complex'>\n"
     ]
    }
   ],
   "source": [
    "# integer\n",
    "num1 = 29\n",
    "\n",
    "# float\n",
    "num2 = 34.5\n",
    "\n",
    "# complex\n",
    "num3 = 2+5j\n",
    "\n",
    "print(num1, type(num1))\n",
    "print(num2, type(num2))\n",
    "print(num3, type(num3))"
   ]
  },
  {
   "cell_type": "markdown",
   "id": "8d709bc9",
   "metadata": {},
   "source": [
    "##### Sequence Datatype"
   ]
  },
  {
   "cell_type": "code",
   "execution_count": 5,
   "id": "e6c338b5",
   "metadata": {},
   "outputs": [
    {
     "name": "stdout",
     "output_type": "stream",
     "text": [
      "GammaEdge <class 'str'>\n",
      "Edge\n"
     ]
    }
   ],
   "source": [
    "# string - collection of characters\n",
    "name = 'GammaEdge'\n",
    "print(name, type(name))\n",
    "# slicing by index\n",
    "print(name[5:])"
   ]
  },
  {
   "cell_type": "code",
   "execution_count": 6,
   "id": "884a17fd",
   "metadata": {},
   "outputs": [
    {
     "name": "stdout",
     "output_type": "stream",
     "text": [
      "['Gamma', 'Edge', 1, 2.3, True] <class 'list'>\n"
     ]
    }
   ],
   "source": [
    "# List - ordered collection of data (it can be modified)\n",
    "ls = ['Gamma', 'Edge', 1, 2.3, True]\n",
    "print(ls, type(ls))"
   ]
  },
  {
   "cell_type": "code",
   "execution_count": 7,
   "id": "115af3ee",
   "metadata": {},
   "outputs": [
    {
     "name": "stdout",
     "output_type": "stream",
     "text": [
      "(1, 2, 3) <class 'tuple'>\n"
     ]
    }
   ],
   "source": [
    "# Tuple - ordered collection of data (it cannot be modified after it is created)\n",
    "tp = (1,2,3)\n",
    "print(tp, type(tp))"
   ]
  },
  {
   "cell_type": "markdown",
   "id": "1a409433",
   "metadata": {},
   "source": [
    "##### Boolean Datatype"
   ]
  },
  {
   "cell_type": "code",
   "execution_count": 8,
   "id": "6838ca3d",
   "metadata": {},
   "outputs": [
    {
     "name": "stdout",
     "output_type": "stream",
     "text": [
      "True <class 'bool'>\n",
      "False <class 'bool'>\n"
     ]
    }
   ],
   "source": [
    "# Boolean - Either True or False\n",
    "val1 = True\n",
    "val2 = False\n",
    "\n",
    "print(val1, type(val1))\n",
    "print(val2, type(val2))"
   ]
  },
  {
   "cell_type": "markdown",
   "id": "1c03c5ff",
   "metadata": {},
   "source": [
    "##### Set Datatype"
   ]
  },
  {
   "cell_type": "code",
   "execution_count": 9,
   "id": "e52134b5",
   "metadata": {},
   "outputs": [
    {
     "name": "stdout",
     "output_type": "stream",
     "text": [
      "{1, 2, 4.5, 23, 'B', 'A'} <class 'set'>\n"
     ]
    }
   ],
   "source": [
    "# set - unordered collection of data, iterable, mutable and no dupicate element\n",
    "s1 = set()\n",
    "s1 = {1, 23, 2, 'B', 'A', 4.5, 2, 'A'}\n",
    "\n",
    "print(s1, type(s1))"
   ]
  },
  {
   "cell_type": "markdown",
   "id": "2af85a76",
   "metadata": {},
   "source": [
    "##### Dictionary Datatype"
   ]
  },
  {
   "cell_type": "code",
   "execution_count": 10,
   "id": "ee423429",
   "metadata": {},
   "outputs": [
    {
     "name": "stdout",
     "output_type": "stream",
     "text": [
      "{1: 'Gamma', 2: 'Edge'} <class 'dict'>\n",
      "Gamma\n",
      "Edge\n"
     ]
    }
   ],
   "source": [
    "# dictionary holds a key: value pair\n",
    "#  initialize empty dictionary\n",
    "d = {}\n",
    "\n",
    "d = {1:'Gamma', 2:'Edge'}\n",
    "\n",
    "print(d, type(d))\n",
    "print(d[1])\n",
    "print(d.get(2))\n"
   ]
  },
  {
   "cell_type": "markdown",
   "id": "d48814da",
   "metadata": {},
   "source": [
    "### Conditionals"
   ]
  },
  {
   "cell_type": "code",
   "execution_count": 11,
   "id": "a14ed2be",
   "metadata": {},
   "outputs": [
    {
     "name": "stdout",
     "output_type": "stream",
     "text": [
      "Eligible to Vote\n"
     ]
    }
   ],
   "source": [
    "# if statement\n",
    "age = 20\n",
    "\n",
    "if age>=18:\n",
    "    print('Eligible to Vote')"
   ]
  },
  {
   "cell_type": "code",
   "execution_count": 12,
   "id": "364b6808",
   "metadata": {},
   "outputs": [
    {
     "name": "stdout",
     "output_type": "stream",
     "text": [
      "Eligible to Vote\n"
     ]
    }
   ],
   "source": [
    "# short hand if\n",
    "if age >=18 : print('Eligible to Vote')"
   ]
  },
  {
   "cell_type": "code",
   "execution_count": 13,
   "id": "1ac7da6d",
   "metadata": {},
   "outputs": [
    {
     "name": "stdout",
     "output_type": "stream",
     "text": [
      "Else executed\n"
     ]
    }
   ],
   "source": [
    "# else statement - execute if the 'if' condition false\n",
    "if 10>50:\n",
    "    print('If executed')\n",
    "else:\n",
    "    print('Else executed')"
   ]
  },
  {
   "cell_type": "code",
   "execution_count": 14,
   "id": "5c359292",
   "metadata": {},
   "outputs": [
    {
     "name": "stdout",
     "output_type": "stream",
     "text": [
      "Young Adult\n"
     ]
    }
   ],
   "source": [
    "# elif statement\n",
    "if age<=12:\n",
    "    print('Child')\n",
    "elif age<=19:\n",
    "    print('Teen')\n",
    "elif age<=35:\n",
    "    print('Young Adult')\n",
    "else:\n",
    "    print('Adult')"
   ]
  },
  {
   "cell_type": "code",
   "execution_count": 15,
   "id": "7ca9a36e",
   "metadata": {},
   "outputs": [
    {
     "name": "stdout",
     "output_type": "stream",
     "text": [
      "Adult\n"
     ]
    }
   ],
   "source": [
    "# Nested if-else:\n",
    "if age>12:\n",
    "    if age<=19:\n",
    "        print('Teen')\n",
    "    else:\n",
    "        print('Adult')\n",
    "else:\n",
    "    print('Chid')\n",
    "        "
   ]
  },
  {
   "cell_type": "code",
   "execution_count": 16,
   "id": "9998bd55",
   "metadata": {},
   "outputs": [
    {
     "name": "stdout",
     "output_type": "stream",
     "text": [
      "Adult\n"
     ]
    }
   ],
   "source": [
    "# Ternary - if-else in single line\n",
    "s = 'Adult' if age>=18 else 'Minor'\n",
    "print(s)"
   ]
  },
  {
   "cell_type": "code",
   "execution_count": 17,
   "id": "a493d284",
   "metadata": {},
   "outputs": [
    {
     "ename": "SyntaxError",
     "evalue": "invalid syntax (1803619244.py, line 3)",
     "output_type": "error",
     "traceback": [
      "\u001b[0;36m  Cell \u001b[0;32mIn[17], line 3\u001b[0;36m\u001b[0m\n\u001b[0;31m    match num:\u001b[0m\n\u001b[0m          ^\u001b[0m\n\u001b[0;31mSyntaxError\u001b[0m\u001b[0;31m:\u001b[0m invalid syntax\n"
     ]
    }
   ],
   "source": [
    "# Match Case\n",
    "num = 2\n",
    "match num:\n",
    "    case 1:\n",
    "        print('One')\n",
    "    case 2:\n",
    "        print('Two')\n",
    "    case _ :\n",
    "        print('Default')"
   ]
  },
  {
   "cell_type": "markdown",
   "id": "3a6def3c",
   "metadata": {},
   "source": [
    "### Type Casting"
   ]
  },
  {
   "cell_type": "code",
   "execution_count": 18,
   "id": "5f1ba0f6",
   "metadata": {},
   "outputs": [
    {
     "name": "stdout",
     "output_type": "stream",
     "text": [
      "25.3 <class 'float'>\n",
      "52.9 <class 'float'>\n"
     ]
    }
   ],
   "source": [
    "# implicit type casting\n",
    "a = 23\n",
    "b = 2.3\n",
    "\n",
    "c = a+b\n",
    "print(c, type(c))\n",
    "\n",
    "c = a*b\n",
    "print(c, type(c))"
   ]
  },
  {
   "cell_type": "code",
   "execution_count": 19,
   "id": "bb60f94f",
   "metadata": {},
   "outputs": [
    {
     "name": "stdout",
     "output_type": "stream",
     "text": [
      "3.0 <class 'float'>\n",
      "2.3 <class 'float'>\n",
      "5 <class 'str'>\n",
      "7.2 <class 'float'>\n"
     ]
    }
   ],
   "source": [
    "# explicit type casting\n",
    "# int(), float(), str()\n",
    "\n",
    "# int to float\n",
    "a = 3\n",
    "a_new = float(a)\n",
    "print(a_new, type(a_new))\n",
    "\n",
    "# float to int\n",
    "b = 2.3\n",
    "b_new = float(b)\n",
    "print(b_new, type(b_new))\n",
    "\n",
    "# int to string\n",
    "c = 5\n",
    "c_new = str(c)\n",
    "print(c_new, type(c_new))\n",
    "\n",
    "# string to float\n",
    "d = '7.2'\n",
    "d_new = float(d)\n",
    "print(d_new, type(d_new))\n"
   ]
  },
  {
   "cell_type": "markdown",
   "id": "98becd86",
   "metadata": {},
   "source": [
    "### Operators and Expressions"
   ]
  },
  {
   "cell_type": "code",
   "execution_count": 20,
   "id": "59720092",
   "metadata": {},
   "outputs": [
    {
     "name": "stdout",
     "output_type": "stream",
     "text": [
      "Addition - 17\n",
      "Subtraction - 9\n",
      "Multiplication - 52\n",
      "Division - 3.25\n",
      "Floor Division - 3\n",
      "Modulus - 1\n",
      "Exponential - 28561\n"
     ]
    }
   ],
   "source": [
    "# Arithmatic operator\n",
    "a= 13\n",
    "b=4\n",
    "\n",
    "print('Addition -', a+b)\n",
    "print('Subtraction -', a-b)\n",
    "print('Multiplication -', a*b)\n",
    "print('Division -', a/b)\n",
    "print('Floor Division -',a//b)\n",
    "print('Modulus -', a%b)\n",
    "print('Exponential -', a**b)"
   ]
  },
  {
   "cell_type": "code",
   "execution_count": 21,
   "id": "e5b9c9df",
   "metadata": {},
   "outputs": [
    {
     "name": "stdout",
     "output_type": "stream",
     "text": [
      "False\n",
      "True\n",
      "False\n",
      "True\n",
      "False\n",
      "True\n"
     ]
    }
   ],
   "source": [
    "# Comparison operator\n",
    "a = 13\n",
    "b = 33\n",
    "print(a>b)\n",
    "print(a<b)\n",
    "print(a==b)\n",
    "print(a!=b)\n",
    "print(a>=b)\n",
    "print(a<=b)"
   ]
  },
  {
   "cell_type": "code",
   "execution_count": 22,
   "id": "de15881c",
   "metadata": {},
   "outputs": [
    {
     "name": "stdout",
     "output_type": "stream",
     "text": [
      "False\n",
      "True\n",
      "True\n"
     ]
    }
   ],
   "source": [
    "# Logical Operator\n",
    "a = True\n",
    "b = False\n",
    "print(a and b)\n",
    "print(a or b)\n",
    "print(not b)"
   ]
  },
  {
   "cell_type": "code",
   "execution_count": 23,
   "id": "ca6f6eb0",
   "metadata": {},
   "outputs": [
    {
     "name": "stdout",
     "output_type": "stream",
     "text": [
      "0\n",
      "14\n",
      "-11\n",
      "14\n",
      "0\n",
      "160\n"
     ]
    }
   ],
   "source": [
    "# Bitwise Operator\n",
    "a = 10\n",
    "b = 4\n",
    "print(a & b)\n",
    "print(a | b)\n",
    "print(~a)\n",
    "print(a^b)\n",
    "print(a>>b)\n",
    "print(a<<b)"
   ]
  },
  {
   "cell_type": "code",
   "execution_count": 24,
   "id": "74895138",
   "metadata": {},
   "outputs": [
    {
     "name": "stdout",
     "output_type": "stream",
     "text": [
      "13\n",
      "26\n"
     ]
    }
   ],
   "source": [
    "# Assignment operator\n",
    "a = 13\n",
    "b = a\n",
    "print(b)\n",
    "b += a\n",
    "print(b)"
   ]
  },
  {
   "cell_type": "code",
   "execution_count": 25,
   "id": "16f70f61",
   "metadata": {},
   "outputs": [
    {
     "name": "stdout",
     "output_type": "stream",
     "text": [
      "True\n",
      "True\n"
     ]
    }
   ],
   "source": [
    "# identity operator\n",
    "a = 10\n",
    "b = 20\n",
    "c = a\n",
    "print(a is not b)\n",
    "print(a is c)"
   ]
  },
  {
   "cell_type": "code",
   "execution_count": 26,
   "id": "cf60f7c5",
   "metadata": {},
   "outputs": [
    {
     "name": "stdout",
     "output_type": "stream",
     "text": [
      "True\n",
      "True\n"
     ]
    }
   ],
   "source": [
    "a = 23\n",
    "b = 4\n",
    "ls = [1, 2, 3, 4]\n",
    "\n",
    "print(a not in ls)\n",
    "print(b in ls)\n"
   ]
  },
  {
   "cell_type": "markdown",
   "id": "b475f1f4",
   "metadata": {},
   "source": [
    "### Input/Output Operation"
   ]
  },
  {
   "cell_type": "code",
   "execution_count": null,
   "id": "aa074a57",
   "metadata": {},
   "outputs": [],
   "source": [
    "name = input('Enter Name :')\n",
    "print(name)"
   ]
  },
  {
   "cell_type": "code",
   "execution_count": null,
   "id": "aec3e815",
   "metadata": {},
   "outputs": [],
   "source": [
    "num = int(input('Enter NUmber :'))\n",
    "print(num)"
   ]
  },
  {
   "cell_type": "code",
   "execution_count": null,
   "id": "0c401573",
   "metadata": {},
   "outputs": [],
   "source": [
    "a,b,c = input('Enter three values :').split()\n"
   ]
  },
  {
   "cell_type": "markdown",
   "id": "66860845",
   "metadata": {},
   "source": [
    "### Comments and Documentation"
   ]
  },
  {
   "cell_type": "code",
   "execution_count": 28,
   "id": "e3911c31",
   "metadata": {},
   "outputs": [
    {
     "data": {
      "text/plain": [
       "'\\nMulti\\nLine\\nComment\\n'"
      ]
     },
     "execution_count": 28,
     "metadata": {},
     "output_type": "execute_result"
    }
   ],
   "source": [
    "# single line comment\n",
    "\"\"\"\n",
    "Multi\n",
    "Line\n",
    "Comment\n",
    "\"\"\""
   ]
  },
  {
   "cell_type": "code",
   "execution_count": 30,
   "id": "4c810df5",
   "metadata": {},
   "outputs": [
    {
     "name": "stdout",
     "output_type": "stream",
     "text": [
      "\n",
      "    It does nothing (its like meta data)\n",
      "    \n",
      "Help on function func in module __main__:\n",
      "\n",
      "func()\n",
      "    It does nothing (its like meta data)\n",
      "\n",
      "None\n"
     ]
    }
   ],
   "source": [
    "# Documentation (Docstring)\n",
    "def func():\n",
    "    \"\"\"\n",
    "    It does nothing (its like meta data)\n",
    "    \"\"\"\n",
    "    return None\n",
    "\n",
    "# using doc\n",
    "print(func.__doc__)\n",
    "# using help\n",
    "print(help(func))\n"
   ]
  },
  {
   "cell_type": "markdown",
   "id": "14f7de3d",
   "metadata": {},
   "source": [
    "### Loops"
   ]
  },
  {
   "cell_type": "code",
   "execution_count": 31,
   "id": "f159803b",
   "metadata": {},
   "outputs": [
    {
     "name": "stdout",
     "output_type": "stream",
     "text": [
      "1\n",
      "2\n",
      "3\n",
      "4\n",
      "5\n",
      "6\n",
      "7\n",
      "8\n",
      "9\n",
      "10\n"
     ]
    }
   ],
   "source": [
    "# for loop - use when number of iteration fixed\n",
    "for i in range(1,11):\n",
    "    print(i)"
   ]
  },
  {
   "cell_type": "code",
   "execution_count": 32,
   "id": "5787aee5",
   "metadata": {},
   "outputs": [
    {
     "name": "stdout",
     "output_type": "stream",
     "text": [
      "0\n",
      "2\n",
      "4\n",
      "6\n",
      "8\n"
     ]
    }
   ],
   "source": [
    "# while loop - when number of iteration not fixed\n",
    "count = 0\n",
    "while count<10:\n",
    "    print(count)\n",
    "    count += 2"
   ]
  },
  {
   "cell_type": "code",
   "execution_count": 34,
   "id": "984493ff",
   "metadata": {},
   "outputs": [
    {
     "name": "stdout",
     "output_type": "stream",
     "text": [
      "1\n",
      "2\n",
      "3\n",
      "4\n",
      "Else executed\n"
     ]
    }
   ],
   "source": [
    "# else with loop\n",
    "ls = [1,2,3,4]\n",
    "for ele in ls:\n",
    "    print(ele)\n",
    "else:\n",
    "    print('Else executed')"
   ]
  },
  {
   "cell_type": "code",
   "execution_count": 36,
   "id": "450daee3",
   "metadata": {},
   "outputs": [
    {
     "name": "stdout",
     "output_type": "stream",
     "text": [
      "*\n",
      "**\n",
      "***\n",
      "****\n",
      "*****\n"
     ]
    }
   ],
   "source": [
    "# nested for loop\n",
    "n = 5\n",
    "for i in range(1,n+1):\n",
    "    for j in range(i):\n",
    "        print('*',end='')\n",
    "    print()"
   ]
  },
  {
   "cell_type": "markdown",
   "id": "62100070",
   "metadata": {},
   "source": [
    "### Control Statements"
   ]
  },
  {
   "cell_type": "code",
   "execution_count": 37,
   "id": "68473843",
   "metadata": {},
   "outputs": [
    {
     "name": "stdout",
     "output_type": "stream",
     "text": [
      "1\n",
      "2\n",
      "4\n",
      "6\n"
     ]
    }
   ],
   "source": [
    "# Continue - skip iteration if condition match\n",
    "ls = [1, 2, 3, 4, 5, 6]\n",
    "for i in ls:\n",
    "    if i==3 or i==5:\n",
    "        continue\n",
    "    print(i)"
   ]
  },
  {
   "cell_type": "code",
   "execution_count": 38,
   "id": "83a93224",
   "metadata": {},
   "outputs": [
    {
     "name": "stdout",
     "output_type": "stream",
     "text": [
      "1\n",
      "2\n",
      "3\n"
     ]
    }
   ],
   "source": [
    "# break - terminate the loop\n",
    "ls = [1, 2, 3, 4, 5, 6, 7]\n",
    "for i in ls:\n",
    "    if i==4:\n",
    "        break\n",
    "    print(i)"
   ]
  },
  {
   "cell_type": "code",
   "execution_count": 40,
   "id": "1d9ef524",
   "metadata": {},
   "outputs": [
    {
     "name": "stdout",
     "output_type": "stream",
     "text": [
      "e\n"
     ]
    }
   ],
   "source": [
    "# pass - for empty loop, also use in functions and classes\n",
    "for i in 'gammaedge':\n",
    "    pass\n",
    "print(i)\n"
   ]
  },
  {
   "cell_type": "code",
   "execution_count": 41,
   "id": "a7579cf7",
   "metadata": {},
   "outputs": [],
   "source": [
    "def func():\n",
    "    pass"
   ]
  },
  {
   "cell_type": "markdown",
   "id": "15a37ac2",
   "metadata": {},
   "source": [
    "### Function & Modules"
   ]
  },
  {
   "cell_type": "code",
   "execution_count": 44,
   "id": "ab8bfdbc",
   "metadata": {},
   "outputs": [
    {
     "name": "stdout",
     "output_type": "stream",
     "text": [
      "this is func\n"
     ]
    }
   ],
   "source": [
    "# functions - block of statement that returns the specific task\n",
    "def func():\n",
    "    return 'this is func'\n",
    "print(func())"
   ]
  },
  {
   "cell_type": "code",
   "execution_count": 45,
   "id": "08df49ff",
   "metadata": {},
   "outputs": [
    {
     "name": "stdout",
     "output_type": "stream",
     "text": [
      "3\n"
     ]
    }
   ],
   "source": [
    "# parameters\n",
    "def func(a,b):\n",
    "    return a+b\n",
    "print(func(1,2))"
   ]
  },
  {
   "cell_type": "code",
   "execution_count": null,
   "id": "759b023f",
   "metadata": {},
   "outputs": [
    {
     "name": "stdout",
     "output_type": "stream",
     "text": [
      "24\n"
     ]
    }
   ],
   "source": [
    "# default argument\n",
    "def func(a,b,c=4):\n",
    "    return a+b*c\n",
    "print(func(4,5))"
   ]
  },
  {
   "cell_type": "code",
   "execution_count": 56,
   "id": "d39100ec",
   "metadata": {},
   "outputs": [
    {
     "name": "stdout",
     "output_type": "stream",
     "text": [
      "Gamma Edge\n"
     ]
    }
   ],
   "source": [
    "# keyword argumet\n",
    "def func(f_name,l_name):\n",
    "    return f_name+' '+l_name\n",
    "print(func(l_name='Edge', f_name='Gamma'))"
   ]
  },
  {
   "cell_type": "code",
   "execution_count": 58,
   "id": "a9c20958",
   "metadata": {},
   "outputs": [
    {
     "name": "stdout",
     "output_type": "stream",
     "text": [
      "<class 'tuple'>\n",
      "1\n",
      "2\n",
      "3\n",
      "4\n",
      "5\n"
     ]
    }
   ],
   "source": [
    "# non keyword arguments\n",
    "def myfun(*args):\n",
    "    print(type(args))\n",
    "    for i in args:\n",
    "        print(i)\n",
    "myfun(1,2,3,4,5)"
   ]
  },
  {
   "cell_type": "code",
   "execution_count": 62,
   "id": "49939c02",
   "metadata": {},
   "outputs": [
    {
     "name": "stdout",
     "output_type": "stream",
     "text": [
      "<class 'dict'>\n",
      "id 1\n",
      "item box\n",
      "quantity 4\n"
     ]
    }
   ],
   "source": [
    "def myfun(**kwargs):\n",
    "    print(type(kwargs))\n",
    "    for i in kwargs:\n",
    "        print(i, kwargs[i])\n",
    "\n",
    "myfun(id=1,item='box',quantity=4)"
   ]
  },
  {
   "cell_type": "markdown",
   "id": "6dc5e875",
   "metadata": {},
   "source": [
    "### Lambda Function"
   ]
  },
  {
   "cell_type": "code",
   "execution_count": 63,
   "id": "c8851b36",
   "metadata": {},
   "outputs": [
    {
     "name": "stdout",
     "output_type": "stream",
     "text": [
      "9\n"
     ]
    }
   ],
   "source": [
    "square = lambda x: x*x\n",
    "print(square(3))"
   ]
  },
  {
   "cell_type": "code",
   "execution_count": 65,
   "id": "4c4c977d",
   "metadata": {},
   "outputs": [
    {
     "name": "stdout",
     "output_type": "stream",
     "text": [
      "[1, 4, 9, 16, 25, 36, 49]\n"
     ]
    }
   ],
   "source": [
    "num = [1,2,3,4,5,6,7]\n",
    "sq_num = list(map(lambda x:x*x,num))\n",
    "print(sq_num)"
   ]
  },
  {
   "cell_type": "markdown",
   "id": "18a53d2c",
   "metadata": {},
   "source": [
    "### Importing and Creating modules"
   ]
  },
  {
   "cell_type": "code",
   "execution_count": 91,
   "id": "234d19a5",
   "metadata": {},
   "outputs": [],
   "source": [
    "import modules as m"
   ]
  },
  {
   "cell_type": "code",
   "execution_count": 92,
   "id": "d6f7ec6b",
   "metadata": {},
   "outputs": [
    {
     "name": "stdout",
     "output_type": "stream",
     "text": [
      "Rohan\n",
      "Indore\n"
     ]
    }
   ],
   "source": [
    "emp = m.Employee('Rohan', 'Indore')\n",
    "emp.show()"
   ]
  },
  {
   "cell_type": "code",
   "execution_count": 93,
   "id": "192801f5",
   "metadata": {},
   "outputs": [
    {
     "data": {
      "text/plain": [
       "'Indore'"
      ]
     },
     "execution_count": 93,
     "metadata": {},
     "output_type": "execute_result"
    }
   ],
   "source": [
    "m.location"
   ]
  },
  {
   "cell_type": "code",
   "execution_count": 94,
   "id": "4bb81b71",
   "metadata": {},
   "outputs": [
    {
     "name": "stdout",
     "output_type": "stream",
     "text": [
      "Good Morning\n"
     ]
    }
   ],
   "source": [
    "m.Greet()"
   ]
  },
  {
   "cell_type": "markdown",
   "id": "dec9dcb3",
   "metadata": {},
   "source": [
    "#### Shallow Copy and Deep Copy"
   ]
  },
  {
   "cell_type": "code",
   "execution_count": 104,
   "id": "c0cd2b25",
   "metadata": {},
   "outputs": [
    {
     "name": "stdout",
     "output_type": "stream",
     "text": [
      "[[1, 2, 3]]\n",
      "[[1, 2, 3]]\n",
      "[[1, 2, 3]]\n",
      "[[1, 10, 3]]\n",
      "[[1, 2, 24]]\n",
      "[[1, 10, 3]]\n"
     ]
    }
   ],
   "source": [
    "import copy\n",
    "\n",
    "a = [[1,2,3]]\n",
    "b=copy.deepcopy(a)\n",
    "\n",
    "print(a)\n",
    "print(b)\n",
    "\n",
    "b[0][1]=10\n",
    "print(a)\n",
    "print(b)\n",
    "\n",
    "a[0][2]=24\n",
    "print(a)\n",
    "print(b)"
   ]
  },
  {
   "cell_type": "code",
   "execution_count": 103,
   "id": "dac480b3",
   "metadata": {},
   "outputs": [
    {
     "name": "stdout",
     "output_type": "stream",
     "text": [
      "[[4, 5, 6]]\n",
      "[[4, 5, 6]]\n",
      "\n",
      "[[4, 56, 6]]\n",
      "[[4, 56, 6]]\n",
      "\n",
      "[[4, 56, 86]]\n",
      "[[4, 56, 86]]\n"
     ]
    }
   ],
   "source": [
    "c = [[4,5,6]]\n",
    "d=copy.copy(c)\n",
    "\n",
    "print(c)\n",
    "print(d)\n",
    "print()\n",
    "d[0][1]=56\n",
    "print(c)\n",
    "print(d)\n",
    "print()\n",
    "c[0][2]=86\n",
    "print(c)\n",
    "print(d)"
   ]
  },
  {
   "cell_type": "code",
   "execution_count": null,
   "id": "91c41ee6",
   "metadata": {},
   "outputs": [],
   "source": []
  }
 ],
 "metadata": {
  "kernelspec": {
   "display_name": "Python 3",
   "language": "python",
   "name": "python3"
  },
  "language_info": {
   "codemirror_mode": {
    "name": "ipython",
    "version": 3
   },
   "file_extension": ".py",
   "mimetype": "text/x-python",
   "name": "python",
   "nbconvert_exporter": "python",
   "pygments_lexer": "ipython3",
   "version": "3.8.10"
  }
 },
 "nbformat": 4,
 "nbformat_minor": 5
}
