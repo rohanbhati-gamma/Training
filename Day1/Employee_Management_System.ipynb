{
 "cells": [
  {
   "cell_type": "code",
   "execution_count": 22,
   "id": "9d795b06",
   "metadata": {},
   "outputs": [],
   "source": [
    "class Employee:\n",
    "    def __init__(self, id, name, department, salary):\n",
    "        self.id = id\n",
    "        self.name = name\n",
    "        self.department = department\n",
    "        self.salary = salary\n",
    "\n",
    "\n",
    "# class FullTimeEmployee(Employee):\n",
    "#     def __init__(self, id, name, department, salary, bonus=0):\n",
    "#         super().__init__(id, name, department, salary)\n",
    "#         self.id = id\n",
    "#         self.name = name\n",
    "#         self.department = department\n",
    "#         self.salary = salary\n",
    "#         self.bonus = bonus\n",
    "\n",
    "# class PartTimeEmployee(Employee):\n",
    "#     def __init__(self, id, name, department,rate_hr,worked_hr):\n",
    "#         super().__init__(id, name, department)\n",
    "#         self.id = id\n",
    "#         self.name = name\n",
    "#         self.department = department\n",
    "#         self.rate_hr = rate_hr\n",
    "#         self.worked_hr = worked_hr\n",
    "\n",
    "# class Intern(Employee):\n",
    "#    def __init__(self, id, name, department, stipend):\n",
    "#        super().__init__(id, name, department)\n",
    "#        self.id = id\n",
    "#        self.name = name\n",
    "#        self.department = department\n",
    "#        self.stipend = stipend\n",
    "\n",
    "\n",
    "class Manager(Employee):\n",
    "    def __init__(self, id, name, department, salary, bonus):\n",
    "        super().__init__(id, name, department, salary)\n",
    "\n",
    "    def get_salary(self):\n",
    "        self.salary = salary\n",
    "        self.bonus = bonus\n",
    "        return self.salary + self.bonus\n",
    "    \n",
    "class Department:\n",
    "    def __init__(self, department):\n",
    "        self.department = department\n",
    "        self.employees = []\n",
    "\n",
    "    def add_employee(self, employee):\n",
    "        self.employees.append(employee)\n",
    "\n",
    "    def print_employees(self):\n",
    "        for i in self.employees:\n",
    "            print(i)\n",
    "        return self.employees\n",
    "\n",
    "    \n",
    "\n",
    "hr = Department('Human Resource')\n",
    "IT = Department('IT')\n",
    "\n",
    "emp1 = Employee('1', 'Rohan', hr, 5000)\n",
    "emp2 = Employee('2', 'Preet', IT, 5000)\n",
    "emp3 = Manager('3', 'Vishal', IT, 5000, 1000)\n",
    "\n",
    "hr.add_employee(emp1)\n",
    "IT.add_employee(emp2)\n",
    "IT.add_employee(emp3)"
   ]
  },
  {
   "cell_type": "code",
   "execution_count": 24,
   "id": "2e7fc967",
   "metadata": {},
   "outputs": [
    {
     "name": "stdout",
     "output_type": "stream",
     "text": [
      "<__main__.Employee object at 0x7f89186841c0>\n",
      "<__main__.Manager object at 0x7f89187dd3a0>\n"
     ]
    },
    {
     "data": {
      "text/plain": [
       "[<__main__.Employee at 0x7f89186841c0>, <__main__.Manager at 0x7f89187dd3a0>]"
      ]
     },
     "execution_count": 24,
     "metadata": {},
     "output_type": "execute_result"
    }
   ],
   "source": [
    "IT.print_employees()"
   ]
  },
  {
   "cell_type": "code",
   "execution_count": null,
   "id": "98616713",
   "metadata": {},
   "outputs": [],
   "source": []
  }
 ],
 "metadata": {
  "kernelspec": {
   "display_name": "Python 3",
   "language": "python",
   "name": "python3"
  },
  "language_info": {
   "codemirror_mode": {
    "name": "ipython",
    "version": 3
   },
   "file_extension": ".py",
   "mimetype": "text/x-python",
   "name": "python",
   "nbconvert_exporter": "python",
   "pygments_lexer": "ipython3",
   "version": "3.8.10"
  }
 },
 "nbformat": 4,
 "nbformat_minor": 5
}
