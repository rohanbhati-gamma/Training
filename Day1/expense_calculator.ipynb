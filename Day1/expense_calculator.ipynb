{
 "cells": [
  {
   "cell_type": "code",
   "execution_count": null,
   "id": "fe28b1d7",
   "metadata": {},
   "outputs": [
    {
     "name": "stdout",
     "output_type": "stream",
     "text": [
      "{'Rent': 3000, 'Internet_Recharge': 1000, 'Food': 3500, 'Electricity': 1000, 'Transportation': 1500, 'Personal Care': 2000, 'Other': 4000}\n",
      "16000\n",
      "You saved Rs.4000 this month\n"
     ]
    }
   ],
   "source": [
    "bills = {\n",
    "    'Rent':None,\n",
    "    'Internet_Recharge': None,\n",
    "    'Food': None,\n",
    "    'Electricity':None,\n",
    "    'Transportation':None,\n",
    "    'Personal Care':None,\n",
    "    'Other':None\n",
    "}\n",
    "\n",
    "\n",
    "Total_Expense = 0\n",
    "\n",
    "for expense in bills:\n",
    "    bills[expense] = int(input(f'Enter Monthly {expense} Amount'))\n",
    "    Total_Expense += bills[expense]\n",
    "\n",
    "print(bills)\n",
    "print('Total Monthly Expeses :', Total_Expense)\n",
    "\n",
    "monthly_income = int(input('Enter your Monthly Income'))\n",
    "\n",
    "if Total_Expense < monthly_income:\n",
    "    profit = monthly_income - Total_Expense\n",
    "    print(f'You saved Rs.{profit} this month')\n",
    "\n",
    "else:\n",
    "    print('Your monthly charges are more than your salary')"
   ]
  },
  {
   "cell_type": "code",
   "execution_count": null,
   "id": "d494b6b9",
   "metadata": {},
   "outputs": [],
   "source": []
  }
 ],
 "metadata": {
  "kernelspec": {
   "display_name": "Python 3",
   "language": "python",
   "name": "python3"
  },
  "language_info": {
   "codemirror_mode": {
    "name": "ipython",
    "version": 3
   },
   "file_extension": ".py",
   "mimetype": "text/x-python",
   "name": "python",
   "nbconvert_exporter": "python",
   "pygments_lexer": "ipython3",
   "version": "3.8.10"
  }
 },
 "nbformat": 4,
 "nbformat_minor": 5
}
