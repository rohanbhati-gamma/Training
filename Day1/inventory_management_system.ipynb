{
 "cells": [
  {
   "cell_type": "code",
   "execution_count": 10,
   "id": "6a5b209f",
   "metadata": {},
   "outputs": [
    {
     "name": "stdout",
     "output_type": "stream",
     "text": [
      "1. add_item\n",
      "2. remove_item\n",
      "3. Update Quantity\n",
      "4. View Inventory\n",
      "5. Exit\n",
      "      \n",
      "\n"
     ]
    }
   ],
   "source": [
    "inventory = []\n",
    "def add_item(id, name, quantity, price):\n",
    "    for item in inventory:\n",
    "        if item['id']==id:\n",
    "            print('Item already present')\n",
    "            return\n",
    "    data = {'id':id, 'name':name, 'quantity':quantity, 'price':price}\n",
    "    inventory.append(data)\n",
    "\n",
    "def remove_item(id):\n",
    "    for item in inventory:\n",
    "        if item['id']==id:\n",
    "            inventory.remove(item)\n",
    "    else:\n",
    "        print('Id not present')\n",
    "\n",
    "def update_quantity(id, new_quantity):\n",
    "    for item in inventory:\n",
    "        if item['id']==id:\n",
    "            item['quantity']=new_quantity\n",
    "    else:\n",
    "        print('Id not present')\n",
    "\n",
    "def view_inventory():\n",
    "    for i in inventory:\n",
    "        print(i)\n",
    "    print()\n",
    "\n",
    "print('''1. add_item\n",
    "2. remove_item\n",
    "3. Update Quantity\n",
    "4. View Inventory\n",
    "5. Exit\n",
    "      \n",
    "''')\n",
    "while True:\n",
    "    n=int(input('Enter your choice : '))\n",
    "    if n==1:\n",
    "        id=int(input('Enter id :'))\n",
    "        name=input('Item name :')\n",
    "        quantity=int(input('ENter quantity :'))\n",
    "        price=int(input('Enter price :'))\n",
    "\n",
    "        add_item(id, name, quantity, price)\n",
    "    \n",
    "    if n==2:\n",
    "        id = int(input('Id for delete :'))\n",
    "        remove_item(id)\n",
    "    \n",
    "    if n==3:\n",
    "        id = int(input('Enter Product id :'))\n",
    "        new_quantity = int(input('New Quantity :'))\n",
    "        update_quantity(id, new_quantity)\n",
    "\n",
    "    if n==4:\n",
    "        view_inventory()\n",
    "\n",
    "    if n==5:\n",
    "        break\n"
   ]
  },
  {
   "cell_type": "code",
   "execution_count": 11,
   "id": "d2dc2840",
   "metadata": {},
   "outputs": [
    {
     "data": {
      "text/plain": [
       "[]"
      ]
     },
     "execution_count": 11,
     "metadata": {},
     "output_type": "execute_result"
    }
   ],
   "source": [
    "inventory"
   ]
  },
  {
   "cell_type": "code",
   "execution_count": null,
   "id": "4890e106",
   "metadata": {},
   "outputs": [],
   "source": []
  }
 ],
 "metadata": {
  "kernelspec": {
   "display_name": "Python 3",
   "language": "python",
   "name": "python3"
  },
  "language_info": {
   "codemirror_mode": {
    "name": "ipython",
    "version": 3
   },
   "file_extension": ".py",
   "mimetype": "text/x-python",
   "name": "python",
   "nbconvert_exporter": "python",
   "pygments_lexer": "ipython3",
   "version": "3.8.10"
  }
 },
 "nbformat": 4,
 "nbformat_minor": 5
}
